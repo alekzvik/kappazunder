{
 "cells": [
  {
   "cell_type": "code",
   "execution_count": 11,
   "id": "8260af4a",
   "metadata": {},
   "outputs": [],
   "source": [
    "%load_ext autoreload\n",
    "%autoreload 1"
   ]
  },
  {
   "cell_type": "code",
   "execution_count": 7,
   "id": "f2ba0b7a-401d-45c4-bdf0-d9a3b2f0a45e",
   "metadata": {},
   "outputs": [],
   "source": [
    "from pathlib import Path\n",
    "\n",
    "import pandas as pd\n",
    "import geopandas as gpd\n",
    "import pystac\n",
    "\n",
    "from kappa.paths import KappazunderPath\n"
   ]
  },
  {
   "cell_type": "code",
   "execution_count": 8,
   "id": "9c3e7c44-c6d6-453d-9cb9-241acb47ce49",
   "metadata": {},
   "outputs": [],
   "source": [
    "data_dir = Path('./assets/Los_6A/')\n",
    "kappa_path = KappazunderPath(data_dir)"
   ]
  },
  {
   "cell_type": "code",
   "execution_count": 3,
   "id": "c9dd46ce-2b92-4145-b5b9-3c1922c1a5d9",
   "metadata": {},
   "outputs": [],
   "source": [
    "def get_image_df(data_dir: Path) -> gpd.GeoDataFrame:\n",
    "    image_meta_path = data_dir / 'Bild-Meta/image_meta.txt'\n",
    "    df = pd.read_csv(image_meta_path, sep=\"\\s+\")\n",
    "    gdf = gpd.GeoDataFrame(\n",
    "        df,\n",
    "        geometry=gpd.points_from_xy(df.x_m, df.y_m, df.z_m, crs=\"epsg:31256\"),\n",
    "        crs=\"epsg:31256\"\n",
    "    )\n",
    "    return gdf\n",
    "\n",
    "    "
   ]
  },
  {
   "cell_type": "code",
   "execution_count": 4,
   "id": "8c181dae-60e0-4a3d-879d-0471c79eea06",
   "metadata": {},
   "outputs": [],
   "source": [
    "from dataclasses import dataclass\n",
    "from typing import Literal\n",
    "import re\n",
    "\n",
    "\n",
    "def get_direction_label(\n",
    "    sensor_id: str,\n",
    ") -> Literal[\"up\", \"front\", \"right\", \"back\", \"left\", \"down\"]:\n",
    "    # Can also calculate it, given the trajectory and sensor angles\n",
    "    MAPPING = {\n",
    "        \"0\": \"up\",\n",
    "        \"1\": \"front\",\n",
    "        \"2\": \"right\",\n",
    "        \"3\": \"back\",\n",
    "        \"4\": \"left\",\n",
    "        \"5\": \"down\",\n",
    "    }\n",
    "    return MAPPING[sensor_id[-1]]\n"
   ]
  },
  {
   "cell_type": "code",
   "execution_count": 5,
   "id": "09f49548",
   "metadata": {},
   "outputs": [],
   "source": [
    "from datetime import datetime, timezone\n",
    "import gpsdatetime as gpst\n",
    "from pystac.extensions.projection import ProjectionExtension\n",
    "from tqdm import tqdm\n",
    "from pprint import pprint\n",
    "from astropy.time import Time\n",
    "\n",
    "\n",
    "\n",
    "\n",
    "@dataclass\n",
    "class TrajectoryInfo:\n",
    "    gps_week: int\n",
    "    epsg: str\n",
    "    \n",
    "def gps_time_to_datetime(gps_week: int, gps_seconds: float) -> datetime:\n",
    "    SECONDS_IN_WEEK = 604800\n",
    "    time = Time(SECONDS_IN_WEEK * gps_week + gps_seconds, format='gps')\n",
    "    return time.datetime.replace(tzinfo=timezone.utc)\n",
    "    \n",
    "\n",
    "\n",
    "def main(base_dir: Path):\n",
    "    assert base_dir.exists()\n",
    "    kappa_path = KappazunderPath(base_dir)\n",
    "        \n",
    "    spatial_extent = pystac.SpatialExtent([[-180.0, -90.0, 180.0, 90.0]])\n",
    "    temporal_extent = pystac.TemporalExtent([[datetime(2013, 6, 1), None]])\n",
    "    collection_extent = pystac.Extent(spatial_extent, temporal_extent)\n",
    "\n",
    "    collection = pystac.Collection(\n",
    "        id='kappa_collection',\n",
    "        title='Vienna mobile mapping campaign 2020',\n",
    "        description=\"Kappazunder 2020 data extract\",\n",
    "        extent=collection_extent\n",
    "    )\n",
    "\n",
    "    df = pd.read_csv(kappa_path.image_metadata, sep='\\s+')\n",
    "\n",
    "    for _, group in df.groupby('image_id'):\n",
    "        collection.add_item(create_image_item(kappa_path, group))\n",
    "        \n",
    "    collection.update_extent_from_items()\n",
    "    \n",
    "    collection.normalize_hrefs(str((kappa_path.base_dir / 'stac').absolute()))\n",
    "\n",
    "    collection.save(catalog_type=pystac.CatalogType.SELF_CONTAINED)\n",
    "\n",
    "def get_trajectory_info(kappa_path: KappazunderPath, trajectory_id: str) -> TrajectoryInfo:\n",
    "    trajectory_path = kappa_path.trajectory(trajectory_id)\n",
    "    match = re.search(r'trajectory_\\d+_(\\d+)_(\\d+)', trajectory_path.name)\n",
    "        \n",
    "    info = TrajectoryInfo(\n",
    "        gps_week=int(match.group(1)),\n",
    "        epsg=int(match.group(2))\n",
    "    )\n",
    "    \n",
    "    return info\n",
    "\n",
    "def create_image_item(kappa_path: KappazunderPath, image_group: pd.DataFrame) -> pystac.Item:\n",
    "    image = image_group.iloc[0]\n",
    "    \n",
    "    trajectorie_info = get_trajectory_info(kappa_path, image.trajectory_id)\n",
    "    gps_epoch = image.epoch_s\n",
    "    \n",
    "    item = pystac.Item(\n",
    "        id=str(image.image_id),\n",
    "        bbox=[image.x_m, image.y_m, image.x_m, image.y_m],\n",
    "        geometry={\n",
    "            \"type\": \"Point\",\n",
    "            \"coordinates\": [image.x_m, image.y_m, image.z_m],\n",
    "        },\n",
    "        datetime=gps_time_to_datetime(trajectorie_info.gps_week, gps_epoch),\n",
    "        properties={\n",
    "            \"trajectory_id\": image.trajectory_id,\n",
    "            \"gps_week\": trajectorie_info.gps_week,\n",
    "            \"gps_epoch_s\": gps_epoch,\n",
    "        }\n",
    "    )\n",
    "    proj_ext = ProjectionExtension.ext(item, add_if_missing=True)\n",
    "    proj_ext.epsg = trajectorie_info.epsg\n",
    "\n",
    "    for image in tqdm(image_group.itertuples()):\n",
    "        direction = get_direction_label(str(image.sensor_id))\n",
    "        item.add_asset(\n",
    "            direction,\n",
    "            pystac.Asset(\n",
    "                href=kappa_path.raw_image(trajectory_id=image.trajectory_id, sensor_id=image.sensor_id, image_name=image.image_name),\n",
    "                title=f\"{direction.capitalize()} photo\",\n",
    "                media_type=pystac.MediaType.JPEG,\n",
    "                extra_fields={\n",
    "                    'rx_rad': image.rx_rad,\n",
    "                    'ry_rad': image.ry_rad,\n",
    "                    'rz_rad': image.rz_rad,\n",
    "                }\n",
    "        ))\n",
    "    # item.validate()\n",
    "    return item"
   ]
  },
  {
   "cell_type": "code",
   "execution_count": 6,
   "id": "e930b6e3",
   "metadata": {},
   "outputs": [],
   "source": [
    "import json\n",
    "from owslib.wfs import WebFeatureService\n",
    "from requests import Request\n",
    "\n",
    "WFS_URL = \"https://data.wien.gv.at/daten/geo?version=1.1.0&service=WFS\" # &request=GetCapabilities\n"
   ]
  },
  {
   "cell_type": "code",
   "execution_count": 7,
   "id": "86108676",
   "metadata": {},
   "outputs": [],
   "source": [
    "wfs = WebFeatureService(url=WFS_URL, version='1.1.0', timeout=60)"
   ]
  },
  {
   "cell_type": "code",
   "execution_count": 8,
   "id": "dfbb370c",
   "metadata": {},
   "outputs": [
    {
     "data": {
      "text/plain": [
       "['ogdwien:KAPPAZUNDERIMAGEPOGD',\n",
       " 'ogdwien:KAPPAZUNDERLIDARFOGD',\n",
       " 'ogdwien:KAPPAZUNDERPANOPOGD']"
      ]
     },
     "execution_count": 8,
     "metadata": {},
     "output_type": "execute_result"
    }
   ],
   "source": [
    "[name for name in wfs.contents if name.startswith('ogdwien:KAPPA')]"
   ]
  },
  {
   "cell_type": "code",
   "execution_count": 9,
   "id": "e1864994",
   "metadata": {},
   "outputs": [
    {
     "data": {
      "text/plain": [
       "{'properties': {'OBJECTID': 'decimal',\n",
       "  'LOSID': 'string',\n",
       "  'TRAJECTORYID': 'decimal',\n",
       "  'EPOCH': 'dateTime',\n",
       "  'IMAGE_NAME': 'string'},\n",
       " 'required': ['OBJECTID'],\n",
       " 'geometry': 'GeometryCollection',\n",
       " 'geometry_column': 'SHAPE'}"
      ]
     },
     "execution_count": 9,
     "metadata": {},
     "output_type": "execute_result"
    }
   ],
   "source": [
    "wfs.get_schema('ogdwien:KAPPAZUNDERIMAGEPOGD')"
   ]
  },
  {
   "cell_type": "code",
   "execution_count": 10,
   "id": "c1781706",
   "metadata": {},
   "outputs": [
    {
     "data": {
      "text/plain": [
       "{'properties': {'OBJECTID': 'decimal',\n",
       "  'TRAJECTORYID': 'decimal',\n",
       "  'EPOCH_S': 'decimal',\n",
       "  'IMAGE_NAME': 'string',\n",
       "  'LOSID': 'string',\n",
       "  'GPS_WEEK': 'decimal'},\n",
       " 'required': ['OBJECTID'],\n",
       " 'geometry': 'GeometryCollection',\n",
       " 'geometry_column': 'SHAPE'}"
      ]
     },
     "execution_count": 10,
     "metadata": {},
     "output_type": "execute_result"
    }
   ],
   "source": [
    "wfs.get_schema('ogdwien:KAPPAZUNDERPANOPOGD')"
   ]
  },
  {
   "cell_type": "code",
   "execution_count": 11,
   "id": "e52102b0",
   "metadata": {},
   "outputs": [
    {
     "data": {
      "text/plain": [
       "{'properties': {'OBJECTID': 'decimal',\n",
       "  'TRAJECTORYID': 'decimal',\n",
       "  'EPOCH_START_S': 'decimal',\n",
       "  'SCANDATA_NAME': 'string',\n",
       "  'LOSID': 'string',\n",
       "  'GPS_WEEK': 'decimal'},\n",
       " 'required': ['OBJECTID'],\n",
       " 'geometry': 'GeometryCollection',\n",
       " 'geometry_column': 'SHAPE'}"
      ]
     },
     "execution_count": 11,
     "metadata": {},
     "output_type": "execute_result"
    }
   ],
   "source": [
    "wfs.get_schema('ogdwien:KAPPAZUNDERLIDARFOGD')"
   ]
  },
  {
   "cell_type": "code",
   "execution_count": 12,
   "id": "b4fc96db",
   "metadata": {},
   "outputs": [],
   "source": [
    "def select(d, keys):\n",
    "    return {\n",
    "        k: v\n",
    "        for k, v in d.items()\n",
    "        if k in keys\n",
    "    }\n",
    "    \n",
    "def omit(d, keys):\n",
    "    return {\n",
    "        k: v\n",
    "        for k, v in d.items()\n",
    "        if k not in keys\n",
    "    }\n",
    "    \n"
   ]
  },
  {
   "cell_type": "code",
   "execution_count": 13,
   "id": "687fa7b1",
   "metadata": {},
   "outputs": [
    {
     "ename": "NameError",
     "evalue": "name 'data' is not defined",
     "output_type": "error",
     "traceback": [
      "\u001b[0;31m---------------------------------------------------------------------------\u001b[0m",
      "\u001b[0;31mNameError\u001b[0m                                 Traceback (most recent call last)",
      "Cell \u001b[0;32mIn[13], line 1\u001b[0m\n\u001b[0;32m----> 1\u001b[0m omit(\u001b[43mdata\u001b[49m, [\u001b[38;5;124m'\u001b[39m\u001b[38;5;124mfeatures\u001b[39m\u001b[38;5;124m'\u001b[39m])\n",
      "\u001b[0;31mNameError\u001b[0m: name 'data' is not defined"
     ]
    }
   ],
   "source": [
    "omit(data, ['features'])"
   ]
  },
  {
   "cell_type": "code",
   "execution_count": 14,
   "id": "4da68a40",
   "metadata": {},
   "outputs": [
    {
     "ename": "NameError",
     "evalue": "name 'data' is not defined",
     "output_type": "error",
     "traceback": [
      "\u001b[0;31m---------------------------------------------------------------------------\u001b[0m",
      "\u001b[0;31mNameError\u001b[0m                                 Traceback (most recent call last)",
      "Cell \u001b[0;32mIn[14], line 1\u001b[0m\n\u001b[0;32m----> 1\u001b[0m omit(\u001b[43mdata\u001b[49m, [\u001b[38;5;124m'\u001b[39m\u001b[38;5;124mfeatures\u001b[39m\u001b[38;5;124m'\u001b[39m])\n",
      "\u001b[0;31mNameError\u001b[0m: name 'data' is not defined"
     ]
    }
   ],
   "source": [
    "omit(data, ['features'])"
   ]
  },
  {
   "cell_type": "code",
   "execution_count": 15,
   "id": "8360820a",
   "metadata": {},
   "outputs": [],
   "source": [
    "# PANO_FEATURE = data['features'][0]"
   ]
  },
  {
   "cell_type": "code",
   "execution_count": 16,
   "id": "09b19a06",
   "metadata": {},
   "outputs": [
    {
     "ename": "NameError",
     "evalue": "name 'data' is not defined",
     "output_type": "error",
     "traceback": [
      "\u001b[0;31m---------------------------------------------------------------------------\u001b[0m",
      "\u001b[0;31mNameError\u001b[0m                                 Traceback (most recent call last)",
      "Cell \u001b[0;32mIn[16], line 1\u001b[0m\n\u001b[0;32m----> 1\u001b[0m IMAGE_FEATURE \u001b[38;5;241m=\u001b[39m \u001b[43mdata\u001b[49m[\u001b[38;5;124m'\u001b[39m\u001b[38;5;124mfeatures\u001b[39m\u001b[38;5;124m'\u001b[39m][\u001b[38;5;241m0\u001b[39m]\n",
      "\u001b[0;31mNameError\u001b[0m: name 'data' is not defined"
     ]
    }
   ],
   "source": [
    "IMAGE_FEATURE = data['features'][0]"
   ]
  },
  {
   "cell_type": "code",
   "execution_count": 17,
   "id": "347dbed1",
   "metadata": {},
   "outputs": [
    {
     "ename": "NameError",
     "evalue": "name 'PANO_FEATURE' is not defined",
     "output_type": "error",
     "traceback": [
      "\u001b[0;31m---------------------------------------------------------------------------\u001b[0m",
      "\u001b[0;31mNameError\u001b[0m                                 Traceback (most recent call last)",
      "Cell \u001b[0;32mIn[17], line 1\u001b[0m\n\u001b[0;32m----> 1\u001b[0m \u001b[43mPANO_FEATURE\u001b[49m\n",
      "\u001b[0;31mNameError\u001b[0m: name 'PANO_FEATURE' is not defined"
     ]
    }
   ],
   "source": [
    "PANO_FEATURE"
   ]
  },
  {
   "cell_type": "code",
   "execution_count": 18,
   "id": "f0908720",
   "metadata": {},
   "outputs": [
    {
     "ename": "NameError",
     "evalue": "name 'IMAGE_FEATURE' is not defined",
     "output_type": "error",
     "traceback": [
      "\u001b[0;31m---------------------------------------------------------------------------\u001b[0m",
      "\u001b[0;31mNameError\u001b[0m                                 Traceback (most recent call last)",
      "Cell \u001b[0;32mIn[18], line 1\u001b[0m\n\u001b[0;32m----> 1\u001b[0m \u001b[43mIMAGE_FEATURE\u001b[49m\n",
      "\u001b[0;31mNameError\u001b[0m: name 'IMAGE_FEATURE' is not defined"
     ]
    }
   ],
   "source": [
    "IMAGE_FEATURE"
   ]
  },
  {
   "cell_type": "code",
   "execution_count": 19,
   "id": "8e9f474c",
   "metadata": {},
   "outputs": [],
   "source": [
    "from math import ceil\n",
    "import orjson as json\n",
    "from requests import Request\n",
    "\n",
    "\n",
    "def get_all_features(wfs: WebFeatureService, layer_name: str, batch_size: int = 50000) -> gpd.GeoDataFrame:\n",
    "    resp = wfs.getfeature(layer_name, outputFormat='json', maxfeatures=1)\n",
    "    data = json.loads(resp.read())\n",
    "    result = gpd.GeoDataFrame()\n",
    "    total = data['totalFeatures']\n",
    "    for offset in tqdm(range(0, total, batch_size), desc='Fetching data...', total=ceil(total / batch_size), unit=\"batches\"):\n",
    "        params = dict(service='WFS', version=\"1.1.0\", request='GetFeature', typeName=layer_name, outputFormat='json', maxFeatures=batch_size, startIndex=offset, sortby=\"OBJECTID\")\n",
    "        wfs_request_url = Request('GET', WFS_URL, params=params).prepare().url\n",
    "\n",
    "        gdf = gpd.read_file(wfs_request_url).set_crs('epsg:31256')\n",
    "        result = pd.concat([result, gdf])\n",
    "    return result\n",
    "    "
   ]
  },
  {
   "cell_type": "code",
   "execution_count": 457,
   "id": "74ec07d3",
   "metadata": {},
   "outputs": [
    {
     "name": "stderr",
     "output_type": "stream",
     "text": [
      "Fetching data...:   4%|████▊                                                                                                                                | 1/28 [00:06<03:04,  6.84s/it]"
     ]
    },
    {
     "name": "stdout",
     "output_type": "stream",
     "text": [
      "(50000, 7)\n"
     ]
    },
    {
     "name": "stderr",
     "output_type": "stream",
     "text": [
      "Fetching data...:   7%|█████████▌                                                                                                                           | 2/28 [00:14<03:10,  7.31s/it]"
     ]
    },
    {
     "name": "stdout",
     "output_type": "stream",
     "text": [
      "(50000, 7)\n"
     ]
    },
    {
     "name": "stderr",
     "output_type": "stream",
     "text": [
      "\n"
     ]
    },
    {
     "ename": "KeyboardInterrupt",
     "evalue": "",
     "output_type": "error",
     "traceback": [
      "\u001b[0;31m---------------------------------------------------------------------------\u001b[0m",
      "\u001b[0;31mKeyboardInterrupt\u001b[0m                         Traceback (most recent call last)",
      "Cell \u001b[0;32mIn[457], line 1\u001b[0m\n\u001b[0;32m----> 1\u001b[0m all_images \u001b[38;5;241m=\u001b[39m \u001b[43mget_all_features\u001b[49m\u001b[43m(\u001b[49m\u001b[43mwfs\u001b[49m\u001b[43m,\u001b[49m\u001b[43m \u001b[49m\u001b[38;5;124;43m'\u001b[39;49m\u001b[38;5;124;43mogdwien:KAPPAZUNDERIMAGEPOGD\u001b[39;49m\u001b[38;5;124;43m'\u001b[39;49m\u001b[43m)\u001b[49m\n",
      "Cell \u001b[0;32mIn[456], line 14\u001b[0m, in \u001b[0;36mget_all_features\u001b[0;34m(wfs, layer_name, batch_size)\u001b[0m\n\u001b[1;32m     11\u001b[0m params \u001b[38;5;241m=\u001b[39m \u001b[38;5;28mdict\u001b[39m(service\u001b[38;5;241m=\u001b[39m\u001b[38;5;124m'\u001b[39m\u001b[38;5;124mWFS\u001b[39m\u001b[38;5;124m'\u001b[39m, version\u001b[38;5;241m=\u001b[39m\u001b[38;5;124m\"\u001b[39m\u001b[38;5;124m1.1.0\u001b[39m\u001b[38;5;124m\"\u001b[39m, request\u001b[38;5;241m=\u001b[39m\u001b[38;5;124m'\u001b[39m\u001b[38;5;124mGetFeature\u001b[39m\u001b[38;5;124m'\u001b[39m, typeName\u001b[38;5;241m=\u001b[39mlayer_name, outputFormat\u001b[38;5;241m=\u001b[39m\u001b[38;5;124m'\u001b[39m\u001b[38;5;124mjson\u001b[39m\u001b[38;5;124m'\u001b[39m, maxFeatures\u001b[38;5;241m=\u001b[39mbatch_size, startIndex\u001b[38;5;241m=\u001b[39moffset, sortby\u001b[38;5;241m=\u001b[39m\u001b[38;5;124m\"\u001b[39m\u001b[38;5;124mOBJECTID\u001b[39m\u001b[38;5;124m\"\u001b[39m)\n\u001b[1;32m     12\u001b[0m wfs_request_url \u001b[38;5;241m=\u001b[39m Request(\u001b[38;5;124m'\u001b[39m\u001b[38;5;124mGET\u001b[39m\u001b[38;5;124m'\u001b[39m, WFS_URL, params\u001b[38;5;241m=\u001b[39mparams)\u001b[38;5;241m.\u001b[39mprepare()\u001b[38;5;241m.\u001b[39murl\n\u001b[0;32m---> 14\u001b[0m gdf \u001b[38;5;241m=\u001b[39m \u001b[43mgpd\u001b[49m\u001b[38;5;241;43m.\u001b[39;49m\u001b[43mread_file\u001b[49m\u001b[43m(\u001b[49m\u001b[43mwfs_request_url\u001b[49m\u001b[43m)\u001b[49m\u001b[38;5;241m.\u001b[39mset_crs(\u001b[38;5;124m'\u001b[39m\u001b[38;5;124mepsg:31256\u001b[39m\u001b[38;5;124m'\u001b[39m)\n\u001b[1;32m     15\u001b[0m \u001b[38;5;28mprint\u001b[39m(gdf\u001b[38;5;241m.\u001b[39mshape)\n\u001b[1;32m     16\u001b[0m result \u001b[38;5;241m=\u001b[39m pd\u001b[38;5;241m.\u001b[39mconcat([result, gdf])\n",
      "File \u001b[0;32m~/projects/enlite/data/.venv/lib/python3.10/site-packages/geopandas/io/file.py:288\u001b[0m, in \u001b[0;36m_read_file\u001b[0;34m(filename, bbox, mask, columns, rows, engine, **kwargs)\u001b[0m\n\u001b[1;32m    282\u001b[0m from_bytes \u001b[38;5;241m=\u001b[39m \u001b[38;5;28;01mFalse\u001b[39;00m\n\u001b[1;32m    283\u001b[0m \u001b[38;5;28;01mif\u001b[39;00m _is_url(filename):\n\u001b[1;32m    284\u001b[0m     \u001b[38;5;66;03m# if it is a url that supports random access -> pass through to\u001b[39;00m\n\u001b[1;32m    285\u001b[0m     \u001b[38;5;66;03m# pyogrio/fiona as is (to support downloading only part of the file)\u001b[39;00m\n\u001b[1;32m    286\u001b[0m     \u001b[38;5;66;03m# otherwise still download manually because pyogrio/fiona don't support\u001b[39;00m\n\u001b[1;32m    287\u001b[0m     \u001b[38;5;66;03m# all types of urls (https://github.com/geopandas/geopandas/issues/2908)\u001b[39;00m\n\u001b[0;32m--> 288\u001b[0m     \u001b[38;5;28;01mwith\u001b[39;00m \u001b[43murllib\u001b[49m\u001b[38;5;241;43m.\u001b[39;49m\u001b[43mrequest\u001b[49m\u001b[38;5;241;43m.\u001b[39;49m\u001b[43murlopen\u001b[49m\u001b[43m(\u001b[49m\u001b[43mfilename\u001b[49m\u001b[43m)\u001b[49m \u001b[38;5;28;01mas\u001b[39;00m response:\n\u001b[1;32m    289\u001b[0m         \u001b[38;5;28;01mif\u001b[39;00m \u001b[38;5;129;01mnot\u001b[39;00m response\u001b[38;5;241m.\u001b[39mheaders\u001b[38;5;241m.\u001b[39mget(\u001b[38;5;124m\"\u001b[39m\u001b[38;5;124mAccept-Ranges\u001b[39m\u001b[38;5;124m\"\u001b[39m) \u001b[38;5;241m==\u001b[39m \u001b[38;5;124m\"\u001b[39m\u001b[38;5;124mbytes\u001b[39m\u001b[38;5;124m\"\u001b[39m:\n\u001b[1;32m    290\u001b[0m             filename \u001b[38;5;241m=\u001b[39m response\u001b[38;5;241m.\u001b[39mread()\n",
      "File \u001b[0;32m~/miniforge3/lib/python3.10/urllib/request.py:216\u001b[0m, in \u001b[0;36murlopen\u001b[0;34m(url, data, timeout, cafile, capath, cadefault, context)\u001b[0m\n\u001b[1;32m    214\u001b[0m \u001b[38;5;28;01melse\u001b[39;00m:\n\u001b[1;32m    215\u001b[0m     opener \u001b[38;5;241m=\u001b[39m _opener\n\u001b[0;32m--> 216\u001b[0m \u001b[38;5;28;01mreturn\u001b[39;00m \u001b[43mopener\u001b[49m\u001b[38;5;241;43m.\u001b[39;49m\u001b[43mopen\u001b[49m\u001b[43m(\u001b[49m\u001b[43murl\u001b[49m\u001b[43m,\u001b[49m\u001b[43m \u001b[49m\u001b[43mdata\u001b[49m\u001b[43m,\u001b[49m\u001b[43m \u001b[49m\u001b[43mtimeout\u001b[49m\u001b[43m)\u001b[49m\n",
      "File \u001b[0;32m~/miniforge3/lib/python3.10/urllib/request.py:519\u001b[0m, in \u001b[0;36mOpenerDirector.open\u001b[0;34m(self, fullurl, data, timeout)\u001b[0m\n\u001b[1;32m    516\u001b[0m     req \u001b[38;5;241m=\u001b[39m meth(req)\n\u001b[1;32m    518\u001b[0m sys\u001b[38;5;241m.\u001b[39maudit(\u001b[38;5;124m'\u001b[39m\u001b[38;5;124murllib.Request\u001b[39m\u001b[38;5;124m'\u001b[39m, req\u001b[38;5;241m.\u001b[39mfull_url, req\u001b[38;5;241m.\u001b[39mdata, req\u001b[38;5;241m.\u001b[39mheaders, req\u001b[38;5;241m.\u001b[39mget_method())\n\u001b[0;32m--> 519\u001b[0m response \u001b[38;5;241m=\u001b[39m \u001b[38;5;28;43mself\u001b[39;49m\u001b[38;5;241;43m.\u001b[39;49m\u001b[43m_open\u001b[49m\u001b[43m(\u001b[49m\u001b[43mreq\u001b[49m\u001b[43m,\u001b[49m\u001b[43m \u001b[49m\u001b[43mdata\u001b[49m\u001b[43m)\u001b[49m\n\u001b[1;32m    521\u001b[0m \u001b[38;5;66;03m# post-process response\u001b[39;00m\n\u001b[1;32m    522\u001b[0m meth_name \u001b[38;5;241m=\u001b[39m protocol\u001b[38;5;241m+\u001b[39m\u001b[38;5;124m\"\u001b[39m\u001b[38;5;124m_response\u001b[39m\u001b[38;5;124m\"\u001b[39m\n",
      "File \u001b[0;32m~/miniforge3/lib/python3.10/urllib/request.py:536\u001b[0m, in \u001b[0;36mOpenerDirector._open\u001b[0;34m(self, req, data)\u001b[0m\n\u001b[1;32m    533\u001b[0m     \u001b[38;5;28;01mreturn\u001b[39;00m result\n\u001b[1;32m    535\u001b[0m protocol \u001b[38;5;241m=\u001b[39m req\u001b[38;5;241m.\u001b[39mtype\n\u001b[0;32m--> 536\u001b[0m result \u001b[38;5;241m=\u001b[39m \u001b[38;5;28;43mself\u001b[39;49m\u001b[38;5;241;43m.\u001b[39;49m\u001b[43m_call_chain\u001b[49m\u001b[43m(\u001b[49m\u001b[38;5;28;43mself\u001b[39;49m\u001b[38;5;241;43m.\u001b[39;49m\u001b[43mhandle_open\u001b[49m\u001b[43m,\u001b[49m\u001b[43m \u001b[49m\u001b[43mprotocol\u001b[49m\u001b[43m,\u001b[49m\u001b[43m \u001b[49m\u001b[43mprotocol\u001b[49m\u001b[43m \u001b[49m\u001b[38;5;241;43m+\u001b[39;49m\n\u001b[1;32m    537\u001b[0m \u001b[43m                          \u001b[49m\u001b[38;5;124;43m'\u001b[39;49m\u001b[38;5;124;43m_open\u001b[39;49m\u001b[38;5;124;43m'\u001b[39;49m\u001b[43m,\u001b[49m\u001b[43m \u001b[49m\u001b[43mreq\u001b[49m\u001b[43m)\u001b[49m\n\u001b[1;32m    538\u001b[0m \u001b[38;5;28;01mif\u001b[39;00m result:\n\u001b[1;32m    539\u001b[0m     \u001b[38;5;28;01mreturn\u001b[39;00m result\n",
      "File \u001b[0;32m~/miniforge3/lib/python3.10/urllib/request.py:496\u001b[0m, in \u001b[0;36mOpenerDirector._call_chain\u001b[0;34m(self, chain, kind, meth_name, *args)\u001b[0m\n\u001b[1;32m    494\u001b[0m \u001b[38;5;28;01mfor\u001b[39;00m handler \u001b[38;5;129;01min\u001b[39;00m handlers:\n\u001b[1;32m    495\u001b[0m     func \u001b[38;5;241m=\u001b[39m \u001b[38;5;28mgetattr\u001b[39m(handler, meth_name)\n\u001b[0;32m--> 496\u001b[0m     result \u001b[38;5;241m=\u001b[39m \u001b[43mfunc\u001b[49m\u001b[43m(\u001b[49m\u001b[38;5;241;43m*\u001b[39;49m\u001b[43margs\u001b[49m\u001b[43m)\u001b[49m\n\u001b[1;32m    497\u001b[0m     \u001b[38;5;28;01mif\u001b[39;00m result \u001b[38;5;129;01mis\u001b[39;00m \u001b[38;5;129;01mnot\u001b[39;00m \u001b[38;5;28;01mNone\u001b[39;00m:\n\u001b[1;32m    498\u001b[0m         \u001b[38;5;28;01mreturn\u001b[39;00m result\n",
      "File \u001b[0;32m~/miniforge3/lib/python3.10/urllib/request.py:1391\u001b[0m, in \u001b[0;36mHTTPSHandler.https_open\u001b[0;34m(self, req)\u001b[0m\n\u001b[1;32m   1390\u001b[0m \u001b[38;5;28;01mdef\u001b[39;00m \u001b[38;5;21mhttps_open\u001b[39m(\u001b[38;5;28mself\u001b[39m, req):\n\u001b[0;32m-> 1391\u001b[0m     \u001b[38;5;28;01mreturn\u001b[39;00m \u001b[38;5;28;43mself\u001b[39;49m\u001b[38;5;241;43m.\u001b[39;49m\u001b[43mdo_open\u001b[49m\u001b[43m(\u001b[49m\u001b[43mhttp\u001b[49m\u001b[38;5;241;43m.\u001b[39;49m\u001b[43mclient\u001b[49m\u001b[38;5;241;43m.\u001b[39;49m\u001b[43mHTTPSConnection\u001b[49m\u001b[43m,\u001b[49m\u001b[43m \u001b[49m\u001b[43mreq\u001b[49m\u001b[43m,\u001b[49m\n\u001b[1;32m   1392\u001b[0m \u001b[43m        \u001b[49m\u001b[43mcontext\u001b[49m\u001b[38;5;241;43m=\u001b[39;49m\u001b[38;5;28;43mself\u001b[39;49m\u001b[38;5;241;43m.\u001b[39;49m\u001b[43m_context\u001b[49m\u001b[43m,\u001b[49m\u001b[43m \u001b[49m\u001b[43mcheck_hostname\u001b[49m\u001b[38;5;241;43m=\u001b[39;49m\u001b[38;5;28;43mself\u001b[39;49m\u001b[38;5;241;43m.\u001b[39;49m\u001b[43m_check_hostname\u001b[49m\u001b[43m)\u001b[49m\n",
      "File \u001b[0;32m~/miniforge3/lib/python3.10/urllib/request.py:1348\u001b[0m, in \u001b[0;36mAbstractHTTPHandler.do_open\u001b[0;34m(self, http_class, req, **http_conn_args)\u001b[0m\n\u001b[1;32m   1346\u001b[0m \u001b[38;5;28;01mtry\u001b[39;00m:\n\u001b[1;32m   1347\u001b[0m     \u001b[38;5;28;01mtry\u001b[39;00m:\n\u001b[0;32m-> 1348\u001b[0m         \u001b[43mh\u001b[49m\u001b[38;5;241;43m.\u001b[39;49m\u001b[43mrequest\u001b[49m\u001b[43m(\u001b[49m\u001b[43mreq\u001b[49m\u001b[38;5;241;43m.\u001b[39;49m\u001b[43mget_method\u001b[49m\u001b[43m(\u001b[49m\u001b[43m)\u001b[49m\u001b[43m,\u001b[49m\u001b[43m \u001b[49m\u001b[43mreq\u001b[49m\u001b[38;5;241;43m.\u001b[39;49m\u001b[43mselector\u001b[49m\u001b[43m,\u001b[49m\u001b[43m \u001b[49m\u001b[43mreq\u001b[49m\u001b[38;5;241;43m.\u001b[39;49m\u001b[43mdata\u001b[49m\u001b[43m,\u001b[49m\u001b[43m \u001b[49m\u001b[43mheaders\u001b[49m\u001b[43m,\u001b[49m\n\u001b[1;32m   1349\u001b[0m \u001b[43m                  \u001b[49m\u001b[43mencode_chunked\u001b[49m\u001b[38;5;241;43m=\u001b[39;49m\u001b[43mreq\u001b[49m\u001b[38;5;241;43m.\u001b[39;49m\u001b[43mhas_header\u001b[49m\u001b[43m(\u001b[49m\u001b[38;5;124;43m'\u001b[39;49m\u001b[38;5;124;43mTransfer-encoding\u001b[39;49m\u001b[38;5;124;43m'\u001b[39;49m\u001b[43m)\u001b[49m\u001b[43m)\u001b[49m\n\u001b[1;32m   1350\u001b[0m     \u001b[38;5;28;01mexcept\u001b[39;00m \u001b[38;5;167;01mOSError\u001b[39;00m \u001b[38;5;28;01mas\u001b[39;00m err: \u001b[38;5;66;03m# timeout error\u001b[39;00m\n\u001b[1;32m   1351\u001b[0m         \u001b[38;5;28;01mraise\u001b[39;00m URLError(err)\n",
      "File \u001b[0;32m~/miniforge3/lib/python3.10/http/client.py:1283\u001b[0m, in \u001b[0;36mHTTPConnection.request\u001b[0;34m(self, method, url, body, headers, encode_chunked)\u001b[0m\n\u001b[1;32m   1280\u001b[0m \u001b[38;5;28;01mdef\u001b[39;00m \u001b[38;5;21mrequest\u001b[39m(\u001b[38;5;28mself\u001b[39m, method, url, body\u001b[38;5;241m=\u001b[39m\u001b[38;5;28;01mNone\u001b[39;00m, headers\u001b[38;5;241m=\u001b[39m{}, \u001b[38;5;241m*\u001b[39m,\n\u001b[1;32m   1281\u001b[0m             encode_chunked\u001b[38;5;241m=\u001b[39m\u001b[38;5;28;01mFalse\u001b[39;00m):\n\u001b[1;32m   1282\u001b[0m \u001b[38;5;250m    \u001b[39m\u001b[38;5;124;03m\"\"\"Send a complete request to the server.\"\"\"\u001b[39;00m\n\u001b[0;32m-> 1283\u001b[0m     \u001b[38;5;28;43mself\u001b[39;49m\u001b[38;5;241;43m.\u001b[39;49m\u001b[43m_send_request\u001b[49m\u001b[43m(\u001b[49m\u001b[43mmethod\u001b[49m\u001b[43m,\u001b[49m\u001b[43m \u001b[49m\u001b[43murl\u001b[49m\u001b[43m,\u001b[49m\u001b[43m \u001b[49m\u001b[43mbody\u001b[49m\u001b[43m,\u001b[49m\u001b[43m \u001b[49m\u001b[43mheaders\u001b[49m\u001b[43m,\u001b[49m\u001b[43m \u001b[49m\u001b[43mencode_chunked\u001b[49m\u001b[43m)\u001b[49m\n",
      "File \u001b[0;32m~/miniforge3/lib/python3.10/http/client.py:1329\u001b[0m, in \u001b[0;36mHTTPConnection._send_request\u001b[0;34m(self, method, url, body, headers, encode_chunked)\u001b[0m\n\u001b[1;32m   1325\u001b[0m \u001b[38;5;28;01mif\u001b[39;00m \u001b[38;5;28misinstance\u001b[39m(body, \u001b[38;5;28mstr\u001b[39m):\n\u001b[1;32m   1326\u001b[0m     \u001b[38;5;66;03m# RFC 2616 Section 3.7.1 says that text default has a\u001b[39;00m\n\u001b[1;32m   1327\u001b[0m     \u001b[38;5;66;03m# default charset of iso-8859-1.\u001b[39;00m\n\u001b[1;32m   1328\u001b[0m     body \u001b[38;5;241m=\u001b[39m _encode(body, \u001b[38;5;124m'\u001b[39m\u001b[38;5;124mbody\u001b[39m\u001b[38;5;124m'\u001b[39m)\n\u001b[0;32m-> 1329\u001b[0m \u001b[38;5;28;43mself\u001b[39;49m\u001b[38;5;241;43m.\u001b[39;49m\u001b[43mendheaders\u001b[49m\u001b[43m(\u001b[49m\u001b[43mbody\u001b[49m\u001b[43m,\u001b[49m\u001b[43m \u001b[49m\u001b[43mencode_chunked\u001b[49m\u001b[38;5;241;43m=\u001b[39;49m\u001b[43mencode_chunked\u001b[49m\u001b[43m)\u001b[49m\n",
      "File \u001b[0;32m~/miniforge3/lib/python3.10/http/client.py:1278\u001b[0m, in \u001b[0;36mHTTPConnection.endheaders\u001b[0;34m(self, message_body, encode_chunked)\u001b[0m\n\u001b[1;32m   1276\u001b[0m \u001b[38;5;28;01melse\u001b[39;00m:\n\u001b[1;32m   1277\u001b[0m     \u001b[38;5;28;01mraise\u001b[39;00m CannotSendHeader()\n\u001b[0;32m-> 1278\u001b[0m \u001b[38;5;28;43mself\u001b[39;49m\u001b[38;5;241;43m.\u001b[39;49m\u001b[43m_send_output\u001b[49m\u001b[43m(\u001b[49m\u001b[43mmessage_body\u001b[49m\u001b[43m,\u001b[49m\u001b[43m \u001b[49m\u001b[43mencode_chunked\u001b[49m\u001b[38;5;241;43m=\u001b[39;49m\u001b[43mencode_chunked\u001b[49m\u001b[43m)\u001b[49m\n",
      "File \u001b[0;32m~/miniforge3/lib/python3.10/http/client.py:1038\u001b[0m, in \u001b[0;36mHTTPConnection._send_output\u001b[0;34m(self, message_body, encode_chunked)\u001b[0m\n\u001b[1;32m   1036\u001b[0m msg \u001b[38;5;241m=\u001b[39m \u001b[38;5;124mb\u001b[39m\u001b[38;5;124m\"\u001b[39m\u001b[38;5;130;01m\\r\u001b[39;00m\u001b[38;5;130;01m\\n\u001b[39;00m\u001b[38;5;124m\"\u001b[39m\u001b[38;5;241m.\u001b[39mjoin(\u001b[38;5;28mself\u001b[39m\u001b[38;5;241m.\u001b[39m_buffer)\n\u001b[1;32m   1037\u001b[0m \u001b[38;5;28;01mdel\u001b[39;00m \u001b[38;5;28mself\u001b[39m\u001b[38;5;241m.\u001b[39m_buffer[:]\n\u001b[0;32m-> 1038\u001b[0m \u001b[38;5;28;43mself\u001b[39;49m\u001b[38;5;241;43m.\u001b[39;49m\u001b[43msend\u001b[49m\u001b[43m(\u001b[49m\u001b[43mmsg\u001b[49m\u001b[43m)\u001b[49m\n\u001b[1;32m   1040\u001b[0m \u001b[38;5;28;01mif\u001b[39;00m message_body \u001b[38;5;129;01mis\u001b[39;00m \u001b[38;5;129;01mnot\u001b[39;00m \u001b[38;5;28;01mNone\u001b[39;00m:\n\u001b[1;32m   1041\u001b[0m \n\u001b[1;32m   1042\u001b[0m     \u001b[38;5;66;03m# create a consistent interface to message_body\u001b[39;00m\n\u001b[1;32m   1043\u001b[0m     \u001b[38;5;28;01mif\u001b[39;00m \u001b[38;5;28mhasattr\u001b[39m(message_body, \u001b[38;5;124m'\u001b[39m\u001b[38;5;124mread\u001b[39m\u001b[38;5;124m'\u001b[39m):\n\u001b[1;32m   1044\u001b[0m         \u001b[38;5;66;03m# Let file-like take precedence over byte-like.  This\u001b[39;00m\n\u001b[1;32m   1045\u001b[0m         \u001b[38;5;66;03m# is needed to allow the current position of mmap'ed\u001b[39;00m\n\u001b[1;32m   1046\u001b[0m         \u001b[38;5;66;03m# files to be taken into account.\u001b[39;00m\n",
      "File \u001b[0;32m~/miniforge3/lib/python3.10/http/client.py:976\u001b[0m, in \u001b[0;36mHTTPConnection.send\u001b[0;34m(self, data)\u001b[0m\n\u001b[1;32m    974\u001b[0m \u001b[38;5;28;01mif\u001b[39;00m \u001b[38;5;28mself\u001b[39m\u001b[38;5;241m.\u001b[39msock \u001b[38;5;129;01mis\u001b[39;00m \u001b[38;5;28;01mNone\u001b[39;00m:\n\u001b[1;32m    975\u001b[0m     \u001b[38;5;28;01mif\u001b[39;00m \u001b[38;5;28mself\u001b[39m\u001b[38;5;241m.\u001b[39mauto_open:\n\u001b[0;32m--> 976\u001b[0m         \u001b[38;5;28;43mself\u001b[39;49m\u001b[38;5;241;43m.\u001b[39;49m\u001b[43mconnect\u001b[49m\u001b[43m(\u001b[49m\u001b[43m)\u001b[49m\n\u001b[1;32m    977\u001b[0m     \u001b[38;5;28;01melse\u001b[39;00m:\n\u001b[1;32m    978\u001b[0m         \u001b[38;5;28;01mraise\u001b[39;00m NotConnected()\n",
      "File \u001b[0;32m~/miniforge3/lib/python3.10/http/client.py:1455\u001b[0m, in \u001b[0;36mHTTPSConnection.connect\u001b[0;34m(self)\u001b[0m\n\u001b[1;32m   1452\u001b[0m \u001b[38;5;28;01melse\u001b[39;00m:\n\u001b[1;32m   1453\u001b[0m     server_hostname \u001b[38;5;241m=\u001b[39m \u001b[38;5;28mself\u001b[39m\u001b[38;5;241m.\u001b[39mhost\n\u001b[0;32m-> 1455\u001b[0m \u001b[38;5;28mself\u001b[39m\u001b[38;5;241m.\u001b[39msock \u001b[38;5;241m=\u001b[39m \u001b[38;5;28;43mself\u001b[39;49m\u001b[38;5;241;43m.\u001b[39;49m\u001b[43m_context\u001b[49m\u001b[38;5;241;43m.\u001b[39;49m\u001b[43mwrap_socket\u001b[49m\u001b[43m(\u001b[49m\u001b[38;5;28;43mself\u001b[39;49m\u001b[38;5;241;43m.\u001b[39;49m\u001b[43msock\u001b[49m\u001b[43m,\u001b[49m\n\u001b[1;32m   1456\u001b[0m \u001b[43m                                      \u001b[49m\u001b[43mserver_hostname\u001b[49m\u001b[38;5;241;43m=\u001b[39;49m\u001b[43mserver_hostname\u001b[49m\u001b[43m)\u001b[49m\n",
      "File \u001b[0;32m~/miniforge3/lib/python3.10/ssl.py:513\u001b[0m, in \u001b[0;36mSSLContext.wrap_socket\u001b[0;34m(self, sock, server_side, do_handshake_on_connect, suppress_ragged_eofs, server_hostname, session)\u001b[0m\n\u001b[1;32m    507\u001b[0m \u001b[38;5;28;01mdef\u001b[39;00m \u001b[38;5;21mwrap_socket\u001b[39m(\u001b[38;5;28mself\u001b[39m, sock, server_side\u001b[38;5;241m=\u001b[39m\u001b[38;5;28;01mFalse\u001b[39;00m,\n\u001b[1;32m    508\u001b[0m                 do_handshake_on_connect\u001b[38;5;241m=\u001b[39m\u001b[38;5;28;01mTrue\u001b[39;00m,\n\u001b[1;32m    509\u001b[0m                 suppress_ragged_eofs\u001b[38;5;241m=\u001b[39m\u001b[38;5;28;01mTrue\u001b[39;00m,\n\u001b[1;32m    510\u001b[0m                 server_hostname\u001b[38;5;241m=\u001b[39m\u001b[38;5;28;01mNone\u001b[39;00m, session\u001b[38;5;241m=\u001b[39m\u001b[38;5;28;01mNone\u001b[39;00m):\n\u001b[1;32m    511\u001b[0m     \u001b[38;5;66;03m# SSLSocket class handles server_hostname encoding before it calls\u001b[39;00m\n\u001b[1;32m    512\u001b[0m     \u001b[38;5;66;03m# ctx._wrap_socket()\u001b[39;00m\n\u001b[0;32m--> 513\u001b[0m     \u001b[38;5;28;01mreturn\u001b[39;00m \u001b[38;5;28;43mself\u001b[39;49m\u001b[38;5;241;43m.\u001b[39;49m\u001b[43msslsocket_class\u001b[49m\u001b[38;5;241;43m.\u001b[39;49m\u001b[43m_create\u001b[49m\u001b[43m(\u001b[49m\n\u001b[1;32m    514\u001b[0m \u001b[43m        \u001b[49m\u001b[43msock\u001b[49m\u001b[38;5;241;43m=\u001b[39;49m\u001b[43msock\u001b[49m\u001b[43m,\u001b[49m\n\u001b[1;32m    515\u001b[0m \u001b[43m        \u001b[49m\u001b[43mserver_side\u001b[49m\u001b[38;5;241;43m=\u001b[39;49m\u001b[43mserver_side\u001b[49m\u001b[43m,\u001b[49m\n\u001b[1;32m    516\u001b[0m \u001b[43m        \u001b[49m\u001b[43mdo_handshake_on_connect\u001b[49m\u001b[38;5;241;43m=\u001b[39;49m\u001b[43mdo_handshake_on_connect\u001b[49m\u001b[43m,\u001b[49m\n\u001b[1;32m    517\u001b[0m \u001b[43m        \u001b[49m\u001b[43msuppress_ragged_eofs\u001b[49m\u001b[38;5;241;43m=\u001b[39;49m\u001b[43msuppress_ragged_eofs\u001b[49m\u001b[43m,\u001b[49m\n\u001b[1;32m    518\u001b[0m \u001b[43m        \u001b[49m\u001b[43mserver_hostname\u001b[49m\u001b[38;5;241;43m=\u001b[39;49m\u001b[43mserver_hostname\u001b[49m\u001b[43m,\u001b[49m\n\u001b[1;32m    519\u001b[0m \u001b[43m        \u001b[49m\u001b[43mcontext\u001b[49m\u001b[38;5;241;43m=\u001b[39;49m\u001b[38;5;28;43mself\u001b[39;49m\u001b[43m,\u001b[49m\n\u001b[1;32m    520\u001b[0m \u001b[43m        \u001b[49m\u001b[43msession\u001b[49m\u001b[38;5;241;43m=\u001b[39;49m\u001b[43msession\u001b[49m\n\u001b[1;32m    521\u001b[0m \u001b[43m    \u001b[49m\u001b[43m)\u001b[49m\n",
      "File \u001b[0;32m~/miniforge3/lib/python3.10/ssl.py:1071\u001b[0m, in \u001b[0;36mSSLSocket._create\u001b[0;34m(cls, sock, server_side, do_handshake_on_connect, suppress_ragged_eofs, server_hostname, context, session)\u001b[0m\n\u001b[1;32m   1068\u001b[0m         \u001b[38;5;28;01mif\u001b[39;00m timeout \u001b[38;5;241m==\u001b[39m \u001b[38;5;241m0.0\u001b[39m:\n\u001b[1;32m   1069\u001b[0m             \u001b[38;5;66;03m# non-blocking\u001b[39;00m\n\u001b[1;32m   1070\u001b[0m             \u001b[38;5;28;01mraise\u001b[39;00m \u001b[38;5;167;01mValueError\u001b[39;00m(\u001b[38;5;124m\"\u001b[39m\u001b[38;5;124mdo_handshake_on_connect should not be specified for non-blocking sockets\u001b[39m\u001b[38;5;124m\"\u001b[39m)\n\u001b[0;32m-> 1071\u001b[0m         \u001b[38;5;28;43mself\u001b[39;49m\u001b[38;5;241;43m.\u001b[39;49m\u001b[43mdo_handshake\u001b[49m\u001b[43m(\u001b[49m\u001b[43m)\u001b[49m\n\u001b[1;32m   1072\u001b[0m \u001b[38;5;28;01mexcept\u001b[39;00m (\u001b[38;5;167;01mOSError\u001b[39;00m, \u001b[38;5;167;01mValueError\u001b[39;00m):\n\u001b[1;32m   1073\u001b[0m     \u001b[38;5;28mself\u001b[39m\u001b[38;5;241m.\u001b[39mclose()\n",
      "File \u001b[0;32m~/miniforge3/lib/python3.10/ssl.py:1342\u001b[0m, in \u001b[0;36mSSLSocket.do_handshake\u001b[0;34m(self, block)\u001b[0m\n\u001b[1;32m   1340\u001b[0m     \u001b[38;5;28;01mif\u001b[39;00m timeout \u001b[38;5;241m==\u001b[39m \u001b[38;5;241m0.0\u001b[39m \u001b[38;5;129;01mand\u001b[39;00m block:\n\u001b[1;32m   1341\u001b[0m         \u001b[38;5;28mself\u001b[39m\u001b[38;5;241m.\u001b[39msettimeout(\u001b[38;5;28;01mNone\u001b[39;00m)\n\u001b[0;32m-> 1342\u001b[0m     \u001b[38;5;28;43mself\u001b[39;49m\u001b[38;5;241;43m.\u001b[39;49m\u001b[43m_sslobj\u001b[49m\u001b[38;5;241;43m.\u001b[39;49m\u001b[43mdo_handshake\u001b[49m\u001b[43m(\u001b[49m\u001b[43m)\u001b[49m\n\u001b[1;32m   1343\u001b[0m \u001b[38;5;28;01mfinally\u001b[39;00m:\n\u001b[1;32m   1344\u001b[0m     \u001b[38;5;28mself\u001b[39m\u001b[38;5;241m.\u001b[39msettimeout(timeout)\n",
      "\u001b[0;31mKeyboardInterrupt\u001b[0m: "
     ]
    }
   ],
   "source": [
    "all_images = get_all_features(wfs, 'ogdwien:KAPPAZUNDERIMAGEPOGD')"
   ]
  },
  {
   "cell_type": "code",
   "execution_count": 11,
   "id": "79290fba",
   "metadata": {},
   "outputs": [
    {
     "ename": "NameError",
     "evalue": "name 'all_images' is not defined",
     "output_type": "error",
     "traceback": [
      "\u001b[0;31m---------------------------------------------------------------------------\u001b[0m",
      "\u001b[0;31mNameError\u001b[0m                                 Traceback (most recent call last)",
      "Cell \u001b[0;32mIn[11], line 1\u001b[0m\n\u001b[0;32m----> 1\u001b[0m \u001b[43mall_images\u001b[49m\u001b[38;5;241m.\u001b[39mshape\n",
      "\u001b[0;31mNameError\u001b[0m: name 'all_images' is not defined"
     ]
    }
   ],
   "source": [
    "all_images.shape"
   ]
  },
  {
   "cell_type": "code",
   "execution_count": 397,
   "id": "c203ddd0",
   "metadata": {},
   "outputs": [],
   "source": [
    "from shapely import force_2d, wkb\n",
    "\n",
    "# _drop_z = lambda geom: wkb.loads(wkb.dumps(geom, output_dimension=2))\n",
    "gdf.geometry = gdf.geometry.map(force_2d)\n"
   ]
  },
  {
   "cell_type": "code",
   "execution_count": 395,
   "id": "6d408ebe",
   "metadata": {},
   "outputs": [
    {
     "data": {
      "text/plain": [
       "shapely.geometry.point.Point"
      ]
     },
     "execution_count": 395,
     "metadata": {},
     "output_type": "execute_result"
    }
   ],
   "source": [
    "type(gdf.geometry.iloc[0])"
   ]
  },
  {
   "cell_type": "code",
   "execution_count": 399,
   "id": "d7684611",
   "metadata": {},
   "outputs": [
    {
     "data": {
      "text/html": [
       "<div>\n",
       "<style scoped>\n",
       "    .dataframe tbody tr th:only-of-type {\n",
       "        vertical-align: middle;\n",
       "    }\n",
       "\n",
       "    .dataframe tbody tr th {\n",
       "        vertical-align: top;\n",
       "    }\n",
       "\n",
       "    .dataframe thead th {\n",
       "        text-align: right;\n",
       "    }\n",
       "</style>\n",
       "<table border=\"1\" class=\"dataframe\">\n",
       "  <thead>\n",
       "    <tr style=\"text-align: right;\">\n",
       "      <th></th>\n",
       "      <th>id</th>\n",
       "      <th>OBJECTID</th>\n",
       "      <th>LOSID</th>\n",
       "      <th>TRAJECTORYID</th>\n",
       "      <th>EPOCH</th>\n",
       "      <th>IMAGE_NAME</th>\n",
       "      <th>geometry</th>\n",
       "    </tr>\n",
       "  </thead>\n",
       "  <tbody>\n",
       "    <tr>\n",
       "      <th>0</th>\n",
       "      <td>KAPPAZUNDERIMAGEPOGD.2742943</td>\n",
       "      <td>2742943</td>\n",
       "      <td>1</td>\n",
       "      <td>17072</td>\n",
       "      <td>2020-07-05 04:22:20+00:00</td>\n",
       "      <td>WE1LBS98.jpg</td>\n",
       "      <td>POINT (6512.896 343098.513)</td>\n",
       "    </tr>\n",
       "    <tr>\n",
       "      <th>1</th>\n",
       "      <td>KAPPAZUNDERIMAGEPOGD.2742944</td>\n",
       "      <td>2742944</td>\n",
       "      <td>1</td>\n",
       "      <td>17072</td>\n",
       "      <td>2020-07-05 04:22:25+00:00</td>\n",
       "      <td>WE1LBS99.jpg</td>\n",
       "      <td>POINT (6513.052 343095.874)</td>\n",
       "    </tr>\n",
       "    <tr>\n",
       "      <th>2</th>\n",
       "      <td>KAPPAZUNDERIMAGEPOGD.2742945</td>\n",
       "      <td>2742945</td>\n",
       "      <td>1</td>\n",
       "      <td>17072</td>\n",
       "      <td>2020-07-05 04:22:27+00:00</td>\n",
       "      <td>WE1LBS9A.jpg</td>\n",
       "      <td>POINT (6512.606 343092.819)</td>\n",
       "    </tr>\n",
       "    <tr>\n",
       "      <th>3</th>\n",
       "      <td>KAPPAZUNDERIMAGEPOGD.2742946</td>\n",
       "      <td>2742946</td>\n",
       "      <td>1</td>\n",
       "      <td>17072</td>\n",
       "      <td>2020-07-05 04:22:30+00:00</td>\n",
       "      <td>WE1LBS9B.jpg</td>\n",
       "      <td>POINT (6512.542 343089.786)</td>\n",
       "    </tr>\n",
       "    <tr>\n",
       "      <th>4</th>\n",
       "      <td>KAPPAZUNDERIMAGEPOGD.2742947</td>\n",
       "      <td>2742947</td>\n",
       "      <td>1</td>\n",
       "      <td>17072</td>\n",
       "      <td>2020-07-05 04:22:57+00:00</td>\n",
       "      <td>WE1LBS9D.jpg</td>\n",
       "      <td>POINT (6513.972 343085.63)</td>\n",
       "    </tr>\n",
       "  </tbody>\n",
       "</table>\n",
       "</div>"
      ],
      "text/plain": [
       "                             id  OBJECTID LOSID  TRAJECTORYID  \\\n",
       "0  KAPPAZUNDERIMAGEPOGD.2742943   2742943     1         17072   \n",
       "1  KAPPAZUNDERIMAGEPOGD.2742944   2742944     1         17072   \n",
       "2  KAPPAZUNDERIMAGEPOGD.2742945   2742945     1         17072   \n",
       "3  KAPPAZUNDERIMAGEPOGD.2742946   2742946     1         17072   \n",
       "4  KAPPAZUNDERIMAGEPOGD.2742947   2742947     1         17072   \n",
       "\n",
       "                      EPOCH    IMAGE_NAME                     geometry  \n",
       "0 2020-07-05 04:22:20+00:00  WE1LBS98.jpg  POINT (6512.896 343098.513)  \n",
       "1 2020-07-05 04:22:25+00:00  WE1LBS99.jpg  POINT (6513.052 343095.874)  \n",
       "2 2020-07-05 04:22:27+00:00  WE1LBS9A.jpg  POINT (6512.606 343092.819)  \n",
       "3 2020-07-05 04:22:30+00:00  WE1LBS9B.jpg  POINT (6512.542 343089.786)  \n",
       "4 2020-07-05 04:22:57+00:00  WE1LBS9D.jpg   POINT (6513.972 343085.63)  "
      ]
     },
     "execution_count": 399,
     "metadata": {},
     "output_type": "execute_result"
    }
   ],
   "source": [
    "gdf.head(5)"
   ]
  },
  {
   "cell_type": "code",
   "execution_count": 398,
   "id": "7d14a9e0",
   "metadata": {},
   "outputs": [
    {
     "data": {
      "application/vnd.jupyter.widget-view+json": {
       "model_id": "2f9f98bb87744e0dad40dea5198821bc",
       "version_major": 2,
       "version_minor": 1
      },
      "text/plain": [
       "Map(basemap_style=<CartoBasemap.DarkMatter: 'https://basemaps.cartocdn.com/gl/dark-matter-gl-style/style.json'…"
      ]
     },
     "execution_count": 398,
     "metadata": {},
     "output_type": "execute_result"
    }
   ],
   "source": [
    "from lonboard import viz\n",
    "\n",
    "viz(gdf.to_crs(4326))"
   ]
  },
  {
   "cell_type": "code",
   "execution_count": 368,
   "id": "8ab8ed6c",
   "metadata": {},
   "outputs": [],
   "source": [
    "layer_name = 'ogdwien:KAPPAZUNDERIMAGEPOGD'\n",
    "batch_size: int = 100000\n",
    "offset = 0\n",
    "\n",
    "resp = wfs.getfeature(layer_name, outputFormat='json', maxfeatures = batch_size, startindex=offset)\n",
    "gdf = gpd.read_file(resp).set_crs('epsg:31256')\n"
   ]
  },
  {
   "cell_type": "code",
   "execution_count": 344,
   "id": "0840d9df",
   "metadata": {},
   "outputs": [],
   "source": [
    "meta = wfs.contents['ogdwien:KAPPAZUNDERIMAGEPOGD']"
   ]
  },
  {
   "cell_type": "code",
   "execution_count": 517,
   "id": "40bdd176",
   "metadata": {},
   "outputs": [],
   "source": [
    "kappa_path = KappazunderPath(Path('/Users/oleksii.vykaliuk/Downloads/kappa_raw_around_stromsalon'))\n"
   ]
  },
  {
   "cell_type": "code",
   "execution_count": 522,
   "id": "b7c66bec",
   "metadata": {},
   "outputs": [],
   "source": [
    "df = pd.read_csv(kappa_path.image_metadata, sep=\"\\s+\")\n",
    "\n",
    "rename_map = {\n",
    "    'trajectory_id': 'TRAJECTORYID',\n",
    "    'image_name': 'IMAGE_NAME'\n",
    "}\n",
    "\n",
    "df = df[df.sensor_id % 10 == 0].rename(columns=rename_map)[[*rename_map.values(), 'rx_rad', 'ry_rad', 'rz_rad']]\n",
    "\n",
    "new_all = all_images.merge(df, on=['TRAJECTORYID', 'IMAGE_NAME'], how='left')"
   ]
  },
  {
   "cell_type": "code",
   "execution_count": 524,
   "id": "020dc405",
   "metadata": {},
   "outputs": [
    {
     "data": {
      "text/html": [
       "<div>\n",
       "<style scoped>\n",
       "    .dataframe tbody tr th:only-of-type {\n",
       "        vertical-align: middle;\n",
       "    }\n",
       "\n",
       "    .dataframe tbody tr th {\n",
       "        vertical-align: top;\n",
       "    }\n",
       "\n",
       "    .dataframe thead th {\n",
       "        text-align: right;\n",
       "    }\n",
       "</style>\n",
       "<table border=\"1\" class=\"dataframe\">\n",
       "  <thead>\n",
       "    <tr style=\"text-align: right;\">\n",
       "      <th></th>\n",
       "      <th>id</th>\n",
       "      <th>OBJECTID</th>\n",
       "      <th>LOSID</th>\n",
       "      <th>TRAJECTORYID</th>\n",
       "      <th>EPOCH</th>\n",
       "      <th>IMAGE_NAME</th>\n",
       "      <th>geometry</th>\n",
       "      <th>rx_rad</th>\n",
       "      <th>ry_rad</th>\n",
       "      <th>rz_rad</th>\n",
       "    </tr>\n",
       "  </thead>\n",
       "  <tbody>\n",
       "    <tr>\n",
       "      <th>0</th>\n",
       "      <td>KAPPAZUNDERIMAGEPOGD.2742943</td>\n",
       "      <td>2742943</td>\n",
       "      <td>1</td>\n",
       "      <td>17072</td>\n",
       "      <td>2020-07-05 04:22:20+00:00</td>\n",
       "      <td>WE1LBS98.jpg</td>\n",
       "      <td>POINT (16.41979 48.22624)</td>\n",
       "      <td>NaN</td>\n",
       "      <td>NaN</td>\n",
       "      <td>NaN</td>\n",
       "    </tr>\n",
       "    <tr>\n",
       "      <th>1</th>\n",
       "      <td>KAPPAZUNDERIMAGEPOGD.2742944</td>\n",
       "      <td>2742944</td>\n",
       "      <td>1</td>\n",
       "      <td>17072</td>\n",
       "      <td>2020-07-05 04:22:25+00:00</td>\n",
       "      <td>WE1LBS99.jpg</td>\n",
       "      <td>POINT (16.41979 48.22622)</td>\n",
       "      <td>NaN</td>\n",
       "      <td>NaN</td>\n",
       "      <td>NaN</td>\n",
       "    </tr>\n",
       "    <tr>\n",
       "      <th>2</th>\n",
       "      <td>KAPPAZUNDERIMAGEPOGD.2742945</td>\n",
       "      <td>2742945</td>\n",
       "      <td>1</td>\n",
       "      <td>17072</td>\n",
       "      <td>2020-07-05 04:22:27+00:00</td>\n",
       "      <td>WE1LBS9A.jpg</td>\n",
       "      <td>POINT (16.41979 48.22619)</td>\n",
       "      <td>NaN</td>\n",
       "      <td>NaN</td>\n",
       "      <td>NaN</td>\n",
       "    </tr>\n",
       "    <tr>\n",
       "      <th>3</th>\n",
       "      <td>KAPPAZUNDERIMAGEPOGD.2742946</td>\n",
       "      <td>2742946</td>\n",
       "      <td>1</td>\n",
       "      <td>17072</td>\n",
       "      <td>2020-07-05 04:22:30+00:00</td>\n",
       "      <td>WE1LBS9B.jpg</td>\n",
       "      <td>POINT (16.41979 48.22617)</td>\n",
       "      <td>NaN</td>\n",
       "      <td>NaN</td>\n",
       "      <td>NaN</td>\n",
       "    </tr>\n",
       "    <tr>\n",
       "      <th>4</th>\n",
       "      <td>KAPPAZUNDERIMAGEPOGD.2742947</td>\n",
       "      <td>2742947</td>\n",
       "      <td>1</td>\n",
       "      <td>17072</td>\n",
       "      <td>2020-07-05 04:22:57+00:00</td>\n",
       "      <td>WE1LBS9D.jpg</td>\n",
       "      <td>POINT (16.41981 48.22613)</td>\n",
       "      <td>NaN</td>\n",
       "      <td>NaN</td>\n",
       "      <td>NaN</td>\n",
       "    </tr>\n",
       "  </tbody>\n",
       "</table>\n",
       "</div>"
      ],
      "text/plain": [
       "                             id  OBJECTID LOSID  TRAJECTORYID  \\\n",
       "0  KAPPAZUNDERIMAGEPOGD.2742943   2742943     1         17072   \n",
       "1  KAPPAZUNDERIMAGEPOGD.2742944   2742944     1         17072   \n",
       "2  KAPPAZUNDERIMAGEPOGD.2742945   2742945     1         17072   \n",
       "3  KAPPAZUNDERIMAGEPOGD.2742946   2742946     1         17072   \n",
       "4  KAPPAZUNDERIMAGEPOGD.2742947   2742947     1         17072   \n",
       "\n",
       "                      EPOCH    IMAGE_NAME                   geometry  rx_rad  \\\n",
       "0 2020-07-05 04:22:20+00:00  WE1LBS98.jpg  POINT (16.41979 48.22624)     NaN   \n",
       "1 2020-07-05 04:22:25+00:00  WE1LBS99.jpg  POINT (16.41979 48.22622)     NaN   \n",
       "2 2020-07-05 04:22:27+00:00  WE1LBS9A.jpg  POINT (16.41979 48.22619)     NaN   \n",
       "3 2020-07-05 04:22:30+00:00  WE1LBS9B.jpg  POINT (16.41979 48.22617)     NaN   \n",
       "4 2020-07-05 04:22:57+00:00  WE1LBS9D.jpg  POINT (16.41981 48.22613)     NaN   \n",
       "\n",
       "   ry_rad  rz_rad  \n",
       "0     NaN     NaN  \n",
       "1     NaN     NaN  \n",
       "2     NaN     NaN  \n",
       "3     NaN     NaN  \n",
       "4     NaN     NaN  "
      ]
     },
     "execution_count": 524,
     "metadata": {},
     "output_type": "execute_result"
    }
   ],
   "source": [
    "new_all.head()"
   ]
  },
  {
   "cell_type": "code",
   "execution_count": 531,
   "id": "9cac4358",
   "metadata": {},
   "outputs": [],
   "source": [
    "new_all['has_images'] = new_all.rx_rad.notnull()"
   ]
  },
  {
   "cell_type": "code",
   "execution_count": 536,
   "id": "52a62336",
   "metadata": {},
   "outputs": [],
   "source": [
    "new_all.to_file('./output/json/images_merged.geojson', driver='geojson')"
   ]
  },
  {
   "cell_type": "code",
   "execution_count": null,
   "id": "8c051d3d",
   "metadata": {},
   "outputs": [],
   "source": [
    "ids = ['image_name', 'trajectory_id']\n",
    "fields_to_save = ['rx_rad', 'ry_rad', 'rz_rad']"
   ]
  },
  {
   "cell_type": "code",
   "execution_count": 504,
   "id": "e3d2296b",
   "metadata": {},
   "outputs": [
    {
     "name": "stderr",
     "output_type": "stream",
     "text": [
      "Warning 6: driver GeoJSON does not support open option DRIVER\n"
     ]
    }
   ],
   "source": [
    "all_images = gpd.read_file('./output/json/all_images.geojson', driver='geojson')"
   ]
  },
  {
   "cell_type": "code",
   "execution_count": 505,
   "id": "478396e4",
   "metadata": {},
   "outputs": [
    {
     "data": {
      "text/html": [
       "<div>\n",
       "<style scoped>\n",
       "    .dataframe tbody tr th:only-of-type {\n",
       "        vertical-align: middle;\n",
       "    }\n",
       "\n",
       "    .dataframe tbody tr th {\n",
       "        vertical-align: top;\n",
       "    }\n",
       "\n",
       "    .dataframe thead th {\n",
       "        text-align: right;\n",
       "    }\n",
       "</style>\n",
       "<table border=\"1\" class=\"dataframe\">\n",
       "  <thead>\n",
       "    <tr style=\"text-align: right;\">\n",
       "      <th></th>\n",
       "      <th>id</th>\n",
       "      <th>OBJECTID</th>\n",
       "      <th>LOSID</th>\n",
       "      <th>TRAJECTORYID</th>\n",
       "      <th>EPOCH</th>\n",
       "      <th>IMAGE_NAME</th>\n",
       "      <th>geometry</th>\n",
       "    </tr>\n",
       "  </thead>\n",
       "  <tbody>\n",
       "    <tr>\n",
       "      <th>0</th>\n",
       "      <td>KAPPAZUNDERIMAGEPOGD.2742943</td>\n",
       "      <td>2742943</td>\n",
       "      <td>1</td>\n",
       "      <td>17072</td>\n",
       "      <td>2020-07-05 04:22:20+00:00</td>\n",
       "      <td>WE1LBS98.jpg</td>\n",
       "      <td>POINT (16.41979 48.22624)</td>\n",
       "    </tr>\n",
       "    <tr>\n",
       "      <th>1</th>\n",
       "      <td>KAPPAZUNDERIMAGEPOGD.2742944</td>\n",
       "      <td>2742944</td>\n",
       "      <td>1</td>\n",
       "      <td>17072</td>\n",
       "      <td>2020-07-05 04:22:25+00:00</td>\n",
       "      <td>WE1LBS99.jpg</td>\n",
       "      <td>POINT (16.41979 48.22622)</td>\n",
       "    </tr>\n",
       "    <tr>\n",
       "      <th>2</th>\n",
       "      <td>KAPPAZUNDERIMAGEPOGD.2742945</td>\n",
       "      <td>2742945</td>\n",
       "      <td>1</td>\n",
       "      <td>17072</td>\n",
       "      <td>2020-07-05 04:22:27+00:00</td>\n",
       "      <td>WE1LBS9A.jpg</td>\n",
       "      <td>POINT (16.41979 48.22619)</td>\n",
       "    </tr>\n",
       "    <tr>\n",
       "      <th>3</th>\n",
       "      <td>KAPPAZUNDERIMAGEPOGD.2742946</td>\n",
       "      <td>2742946</td>\n",
       "      <td>1</td>\n",
       "      <td>17072</td>\n",
       "      <td>2020-07-05 04:22:30+00:00</td>\n",
       "      <td>WE1LBS9B.jpg</td>\n",
       "      <td>POINT (16.41979 48.22617)</td>\n",
       "    </tr>\n",
       "    <tr>\n",
       "      <th>4</th>\n",
       "      <td>KAPPAZUNDERIMAGEPOGD.2742947</td>\n",
       "      <td>2742947</td>\n",
       "      <td>1</td>\n",
       "      <td>17072</td>\n",
       "      <td>2020-07-05 04:22:57+00:00</td>\n",
       "      <td>WE1LBS9D.jpg</td>\n",
       "      <td>POINT (16.41981 48.22613)</td>\n",
       "    </tr>\n",
       "  </tbody>\n",
       "</table>\n",
       "</div>"
      ],
      "text/plain": [
       "                             id  OBJECTID LOSID  TRAJECTORYID  \\\n",
       "0  KAPPAZUNDERIMAGEPOGD.2742943   2742943     1         17072   \n",
       "1  KAPPAZUNDERIMAGEPOGD.2742944   2742944     1         17072   \n",
       "2  KAPPAZUNDERIMAGEPOGD.2742945   2742945     1         17072   \n",
       "3  KAPPAZUNDERIMAGEPOGD.2742946   2742946     1         17072   \n",
       "4  KAPPAZUNDERIMAGEPOGD.2742947   2742947     1         17072   \n",
       "\n",
       "                      EPOCH    IMAGE_NAME                   geometry  \n",
       "0 2020-07-05 04:22:20+00:00  WE1LBS98.jpg  POINT (16.41979 48.22624)  \n",
       "1 2020-07-05 04:22:25+00:00  WE1LBS99.jpg  POINT (16.41979 48.22622)  \n",
       "2 2020-07-05 04:22:27+00:00  WE1LBS9A.jpg  POINT (16.41979 48.22619)  \n",
       "3 2020-07-05 04:22:30+00:00  WE1LBS9B.jpg  POINT (16.41979 48.22617)  \n",
       "4 2020-07-05 04:22:57+00:00  WE1LBS9D.jpg  POINT (16.41981 48.22613)  "
      ]
     },
     "execution_count": 505,
     "metadata": {},
     "output_type": "execute_result"
    }
   ],
   "source": [
    "all_images.head()"
   ]
  },
  {
   "cell_type": "code",
   "execution_count": 538,
   "id": "18871d92",
   "metadata": {},
   "outputs": [
    {
     "data": {
      "text/html": [
       "<div>\n",
       "<style scoped>\n",
       "    .dataframe tbody tr th:only-of-type {\n",
       "        vertical-align: middle;\n",
       "    }\n",
       "\n",
       "    .dataframe tbody tr th {\n",
       "        vertical-align: top;\n",
       "    }\n",
       "\n",
       "    .dataframe thead th {\n",
       "        text-align: right;\n",
       "    }\n",
       "</style>\n",
       "<table border=\"1\" class=\"dataframe\">\n",
       "  <thead>\n",
       "    <tr style=\"text-align: right;\">\n",
       "      <th></th>\n",
       "      <th>id</th>\n",
       "      <th>OBJECTID</th>\n",
       "      <th>LOSID</th>\n",
       "      <th>EPOCH</th>\n",
       "      <th>IMAGE_NAME</th>\n",
       "      <th>geometry</th>\n",
       "    </tr>\n",
       "    <tr>\n",
       "      <th>TRAJECTORYID</th>\n",
       "      <th></th>\n",
       "      <th></th>\n",
       "      <th></th>\n",
       "      <th></th>\n",
       "      <th></th>\n",
       "      <th></th>\n",
       "    </tr>\n",
       "  </thead>\n",
       "  <tbody>\n",
       "    <tr>\n",
       "      <th>15714</th>\n",
       "      <td>9843</td>\n",
       "      <td>9843</td>\n",
       "      <td>2</td>\n",
       "      <td>3734</td>\n",
       "      <td>9843</td>\n",
       "      <td>9843</td>\n",
       "    </tr>\n",
       "    <tr>\n",
       "      <th>15730</th>\n",
       "      <td>8862</td>\n",
       "      <td>8862</td>\n",
       "      <td>2</td>\n",
       "      <td>3156</td>\n",
       "      <td>8862</td>\n",
       "      <td>8862</td>\n",
       "    </tr>\n",
       "    <tr>\n",
       "      <th>15752</th>\n",
       "      <td>2809</td>\n",
       "      <td>2809</td>\n",
       "      <td>2</td>\n",
       "      <td>1374</td>\n",
       "      <td>2809</td>\n",
       "      <td>2809</td>\n",
       "    </tr>\n",
       "    <tr>\n",
       "      <th>15754</th>\n",
       "      <td>1811</td>\n",
       "      <td>1811</td>\n",
       "      <td>2</td>\n",
       "      <td>913</td>\n",
       "      <td>1811</td>\n",
       "      <td>1811</td>\n",
       "    </tr>\n",
       "    <tr>\n",
       "      <th>15760</th>\n",
       "      <td>6410</td>\n",
       "      <td>6410</td>\n",
       "      <td>2</td>\n",
       "      <td>3334</td>\n",
       "      <td>6410</td>\n",
       "      <td>6410</td>\n",
       "    </tr>\n",
       "    <tr>\n",
       "      <th>15766</th>\n",
       "      <td>5513</td>\n",
       "      <td>5513</td>\n",
       "      <td>2</td>\n",
       "      <td>2556</td>\n",
       "      <td>5513</td>\n",
       "      <td>5513</td>\n",
       "    </tr>\n",
       "    <tr>\n",
       "      <th>15767</th>\n",
       "      <td>9680</td>\n",
       "      <td>9680</td>\n",
       "      <td>2</td>\n",
       "      <td>4067</td>\n",
       "      <td>9680</td>\n",
       "      <td>9680</td>\n",
       "    </tr>\n",
       "    <tr>\n",
       "      <th>15769</th>\n",
       "      <td>2475</td>\n",
       "      <td>2475</td>\n",
       "      <td>2</td>\n",
       "      <td>642</td>\n",
       "      <td>2475</td>\n",
       "      <td>2475</td>\n",
       "    </tr>\n",
       "    <tr>\n",
       "      <th>15775</th>\n",
       "      <td>7663</td>\n",
       "      <td>7663</td>\n",
       "      <td>2</td>\n",
       "      <td>3333</td>\n",
       "      <td>7663</td>\n",
       "      <td>7663</td>\n",
       "    </tr>\n",
       "    <tr>\n",
       "      <th>15871</th>\n",
       "      <td>10497</td>\n",
       "      <td>10497</td>\n",
       "      <td>2</td>\n",
       "      <td>3056</td>\n",
       "      <td>10497</td>\n",
       "      <td>10497</td>\n",
       "    </tr>\n",
       "    <tr>\n",
       "      <th>16066</th>\n",
       "      <td>3997</td>\n",
       "      <td>3997</td>\n",
       "      <td>2</td>\n",
       "      <td>1606</td>\n",
       "      <td>3997</td>\n",
       "      <td>3997</td>\n",
       "    </tr>\n",
       "    <tr>\n",
       "      <th>16094</th>\n",
       "      <td>3885</td>\n",
       "      <td>3885</td>\n",
       "      <td>2</td>\n",
       "      <td>1771</td>\n",
       "      <td>3885</td>\n",
       "      <td>3885</td>\n",
       "    </tr>\n",
       "    <tr>\n",
       "      <th>16110</th>\n",
       "      <td>5104</td>\n",
       "      <td>5104</td>\n",
       "      <td>2</td>\n",
       "      <td>2106</td>\n",
       "      <td>5104</td>\n",
       "      <td>5104</td>\n",
       "    </tr>\n",
       "    <tr>\n",
       "      <th>16122</th>\n",
       "      <td>5211</td>\n",
       "      <td>5211</td>\n",
       "      <td>2</td>\n",
       "      <td>2260</td>\n",
       "      <td>5211</td>\n",
       "      <td>5211</td>\n",
       "    </tr>\n",
       "    <tr>\n",
       "      <th>16131</th>\n",
       "      <td>6329</td>\n",
       "      <td>6329</td>\n",
       "      <td>2</td>\n",
       "      <td>1949</td>\n",
       "      <td>6329</td>\n",
       "      <td>6329</td>\n",
       "    </tr>\n",
       "    <tr>\n",
       "      <th>16133</th>\n",
       "      <td>6310</td>\n",
       "      <td>6310</td>\n",
       "      <td>2</td>\n",
       "      <td>2817</td>\n",
       "      <td>6310</td>\n",
       "      <td>6310</td>\n",
       "    </tr>\n",
       "    <tr>\n",
       "      <th>16525</th>\n",
       "      <td>19403</td>\n",
       "      <td>19403</td>\n",
       "      <td>2</td>\n",
       "      <td>8227</td>\n",
       "      <td>19403</td>\n",
       "      <td>19403</td>\n",
       "    </tr>\n",
       "    <tr>\n",
       "      <th>16642</th>\n",
       "      <td>12363</td>\n",
       "      <td>12363</td>\n",
       "      <td>2</td>\n",
       "      <td>8039</td>\n",
       "      <td>12363</td>\n",
       "      <td>12363</td>\n",
       "    </tr>\n",
       "    <tr>\n",
       "      <th>16653</th>\n",
       "      <td>19793</td>\n",
       "      <td>19793</td>\n",
       "      <td>2</td>\n",
       "      <td>11667</td>\n",
       "      <td>19793</td>\n",
       "      <td>19793</td>\n",
       "    </tr>\n",
       "    <tr>\n",
       "      <th>17087</th>\n",
       "      <td>19098</td>\n",
       "      <td>19098</td>\n",
       "      <td>2</td>\n",
       "      <td>9406</td>\n",
       "      <td>19098</td>\n",
       "      <td>19098</td>\n",
       "    </tr>\n",
       "    <tr>\n",
       "      <th>20708</th>\n",
       "      <td>3885</td>\n",
       "      <td>3885</td>\n",
       "      <td>2</td>\n",
       "      <td>2396</td>\n",
       "      <td>3885</td>\n",
       "      <td>3885</td>\n",
       "    </tr>\n",
       "    <tr>\n",
       "      <th>20727</th>\n",
       "      <td>3891</td>\n",
       "      <td>3891</td>\n",
       "      <td>2</td>\n",
       "      <td>2797</td>\n",
       "      <td>3891</td>\n",
       "      <td>3891</td>\n",
       "    </tr>\n",
       "    <tr>\n",
       "      <th>20729</th>\n",
       "      <td>1226</td>\n",
       "      <td>1226</td>\n",
       "      <td>2</td>\n",
       "      <td>899</td>\n",
       "      <td>1226</td>\n",
       "      <td>1226</td>\n",
       "    </tr>\n",
       "    <tr>\n",
       "      <th>20738</th>\n",
       "      <td>5488</td>\n",
       "      <td>5488</td>\n",
       "      <td>2</td>\n",
       "      <td>2351</td>\n",
       "      <td>5488</td>\n",
       "      <td>5488</td>\n",
       "    </tr>\n",
       "    <tr>\n",
       "      <th>20751</th>\n",
       "      <td>3603</td>\n",
       "      <td>3603</td>\n",
       "      <td>2</td>\n",
       "      <td>1467</td>\n",
       "      <td>3603</td>\n",
       "      <td>3603</td>\n",
       "    </tr>\n",
       "    <tr>\n",
       "      <th>21424</th>\n",
       "      <td>6951</td>\n",
       "      <td>6951</td>\n",
       "      <td>2</td>\n",
       "      <td>3227</td>\n",
       "      <td>6951</td>\n",
       "      <td>6951</td>\n",
       "    </tr>\n",
       "    <tr>\n",
       "      <th>21519</th>\n",
       "      <td>7748</td>\n",
       "      <td>7748</td>\n",
       "      <td>2</td>\n",
       "      <td>2997</td>\n",
       "      <td>7748</td>\n",
       "      <td>7748</td>\n",
       "    </tr>\n",
       "  </tbody>\n",
       "</table>\n",
       "</div>"
      ],
      "text/plain": [
       "                 id  OBJECTID  LOSID  EPOCH  IMAGE_NAME  geometry\n",
       "TRAJECTORYID                                                     \n",
       "15714          9843      9843      2   3734        9843      9843\n",
       "15730          8862      8862      2   3156        8862      8862\n",
       "15752          2809      2809      2   1374        2809      2809\n",
       "15754          1811      1811      2    913        1811      1811\n",
       "15760          6410      6410      2   3334        6410      6410\n",
       "15766          5513      5513      2   2556        5513      5513\n",
       "15767          9680      9680      2   4067        9680      9680\n",
       "15769          2475      2475      2    642        2475      2475\n",
       "15775          7663      7663      2   3333        7663      7663\n",
       "15871         10497     10497      2   3056       10497     10497\n",
       "16066          3997      3997      2   1606        3997      3997\n",
       "16094          3885      3885      2   1771        3885      3885\n",
       "16110          5104      5104      2   2106        5104      5104\n",
       "16122          5211      5211      2   2260        5211      5211\n",
       "16131          6329      6329      2   1949        6329      6329\n",
       "16133          6310      6310      2   2817        6310      6310\n",
       "16525         19403     19403      2   8227       19403     19403\n",
       "16642         12363     12363      2   8039       12363     12363\n",
       "16653         19793     19793      2  11667       19793     19793\n",
       "17087         19098     19098      2   9406       19098     19098\n",
       "20708          3885      3885      2   2396        3885      3885\n",
       "20727          3891      3891      2   2797        3891      3891\n",
       "20729          1226      1226      2    899        1226      1226\n",
       "20738          5488      5488      2   2351        5488      5488\n",
       "20751          3603      3603      2   1467        3603      3603\n",
       "21424          6951      6951      2   3227        6951      6951\n",
       "21519          7748      7748      2   2997        7748      7748"
      ]
     },
     "execution_count": 538,
     "metadata": {},
     "output_type": "execute_result"
    }
   ],
   "source": [
    "tmp = all_images.groupby('TRAJECTORYID').nunique()\n",
    "tmp[tmp.LOSID > 1]"
   ]
  },
  {
   "cell_type": "code",
   "execution_count": 24,
   "id": "1e8181be",
   "metadata": {},
   "outputs": [
    {
     "name": "stderr",
     "output_type": "stream",
     "text": [
      "Fetching data...: 100%|█████████████████████████████████████████████████████████████████████████████████████████████████████████████████████████████████| 9/9 [01:33<00:00, 10.34s/batches]\n"
     ]
    }
   ],
   "source": [
    "points_clouds = get_all_features(wfs, 'ogdwien:KAPPAZUNDERLIDARFOGD', batch_size=2500)"
   ]
  },
  {
   "cell_type": "code",
   "execution_count": 20,
   "id": "ec270936",
   "metadata": {},
   "outputs": [],
   "source": [
    "layer_name = 'ogdwien:KAPPAZUNDERLIDARFOGD'\n",
    "resp = wfs.getfeature(layer_name, outputFormat='json', maxfeatures = 5000, startindex=0, sortby='OBJECTID')\n",
    "gdf = gpd.read_file(resp).set_crs('epsg:31256')\n"
   ]
  },
  {
   "cell_type": "code",
   "execution_count": 32,
   "id": "92e4d742",
   "metadata": {},
   "outputs": [],
   "source": [
    "points_clouds.to_crs(4326).to_file('./output/json/lidar.geojson', driver='geojson')"
   ]
  },
  {
   "cell_type": "code",
   "execution_count": 21,
   "id": "afaa0ba5",
   "metadata": {},
   "outputs": [
    {
     "data": {
      "text/plain": [
       "(5000, 8)"
      ]
     },
     "execution_count": 21,
     "metadata": {},
     "output_type": "execute_result"
    }
   ],
   "source": [
    "gdf.shape"
   ]
  },
  {
   "cell_type": "code",
   "execution_count": 22,
   "id": "0c42eb6b",
   "metadata": {},
   "outputs": [
    {
     "data": {
      "text/html": [
       "<div>\n",
       "<style scoped>\n",
       "    .dataframe tbody tr th:only-of-type {\n",
       "        vertical-align: middle;\n",
       "    }\n",
       "\n",
       "    .dataframe tbody tr th {\n",
       "        vertical-align: top;\n",
       "    }\n",
       "\n",
       "    .dataframe thead th {\n",
       "        text-align: right;\n",
       "    }\n",
       "</style>\n",
       "<table border=\"1\" class=\"dataframe\">\n",
       "  <thead>\n",
       "    <tr style=\"text-align: right;\">\n",
       "      <th></th>\n",
       "      <th>id</th>\n",
       "      <th>OBJECTID</th>\n",
       "      <th>TRAJECTORYID</th>\n",
       "      <th>EPOCH_START_S</th>\n",
       "      <th>SCANDATA_NAME</th>\n",
       "      <th>LOSID</th>\n",
       "      <th>GPS_WEEK</th>\n",
       "      <th>geometry</th>\n",
       "    </tr>\n",
       "  </thead>\n",
       "  <tbody>\n",
       "    <tr>\n",
       "      <th>0</th>\n",
       "      <td>KAPPAZUNDERLIDARFOGD.2</td>\n",
       "      <td>2</td>\n",
       "      <td>16848</td>\n",
       "      <td>218580.000225</td>\n",
       "      <td>scandata_19.laz</td>\n",
       "      <td>2</td>\n",
       "      <td>2112</td>\n",
       "      <td>POLYGON Z ((5749.497 348701.997 0, 5749.305 34...</td>\n",
       "    </tr>\n",
       "    <tr>\n",
       "      <th>1</th>\n",
       "      <td>KAPPAZUNDERLIDARFOGD.3</td>\n",
       "      <td>3</td>\n",
       "      <td>16848</td>\n",
       "      <td>218940.000257</td>\n",
       "      <td>scandata_25.laz</td>\n",
       "      <td>2</td>\n",
       "      <td>2112</td>\n",
       "      <td>POLYGON Z ((5005.933 348644.76 0, 5006.021 348...</td>\n",
       "    </tr>\n",
       "    <tr>\n",
       "      <th>2</th>\n",
       "      <td>KAPPAZUNDERLIDARFOGD.4</td>\n",
       "      <td>4</td>\n",
       "      <td>16848</td>\n",
       "      <td>221280.000234</td>\n",
       "      <td>scandata_61.laz</td>\n",
       "      <td>2</td>\n",
       "      <td>2112</td>\n",
       "      <td>POLYGON Z ((7414.219 350043.791 0, 7412.32 350...</td>\n",
       "    </tr>\n",
       "  </tbody>\n",
       "</table>\n",
       "</div>"
      ],
      "text/plain": [
       "                       id  OBJECTID  TRAJECTORYID  EPOCH_START_S  \\\n",
       "0  KAPPAZUNDERLIDARFOGD.2         2         16848  218580.000225   \n",
       "1  KAPPAZUNDERLIDARFOGD.3         3         16848  218940.000257   \n",
       "2  KAPPAZUNDERLIDARFOGD.4         4         16848  221280.000234   \n",
       "\n",
       "     SCANDATA_NAME LOSID  GPS_WEEK  \\\n",
       "0  scandata_19.laz     2      2112   \n",
       "1  scandata_25.laz     2      2112   \n",
       "2  scandata_61.laz     2      2112   \n",
       "\n",
       "                                            geometry  \n",
       "0  POLYGON Z ((5749.497 348701.997 0, 5749.305 34...  \n",
       "1  POLYGON Z ((5005.933 348644.76 0, 5006.021 348...  \n",
       "2  POLYGON Z ((7414.219 350043.791 0, 7412.32 350...  "
      ]
     },
     "execution_count": 22,
     "metadata": {},
     "output_type": "execute_result"
    }
   ],
   "source": [
    "gdf.head(3)"
   ]
  },
  {
   "cell_type": "code",
   "execution_count": 12,
   "id": "b128da7d",
   "metadata": {},
   "outputs": [],
   "source": [
    "kappa_path.get_all_scans()"
   ]
  },
  {
   "cell_type": "code",
   "execution_count": 5,
   "id": "427727e2",
   "metadata": {},
   "outputs": [
    {
     "data": {
      "text/plain": [
       "True"
      ]
     },
     "execution_count": 5,
     "metadata": {},
     "output_type": "execute_result"
    }
   ],
   "source": [
    "kappa_path.scan_data_dir.exists()"
   ]
  },
  {
   "cell_type": "code",
   "execution_count": 24,
   "id": "92568d66",
   "metadata": {},
   "outputs": [],
   "source": []
  },
  {
   "cell_type": "code",
   "execution_count": 27,
   "id": "0864d8f6",
   "metadata": {},
   "outputs": [],
   "source": [
    "laz_paths = list(kappa_path.scan_data_dir.glob('**/*[0-9].laz'))"
   ]
  },
  {
   "cell_type": "code",
   "execution_count": 31,
   "id": "4b151dd1",
   "metadata": {},
   "outputs": [
    {
     "data": {
      "text/plain": [
       "PosixPath('assets/Los_6A/Scan-Punktwolken/Trajektorie_16882/Sensor_11003/scandata_16.laz')"
      ]
     },
     "execution_count": 31,
     "metadata": {},
     "output_type": "execute_result"
    }
   ],
   "source": [
    "laz_file = laz_paths[0]\n",
    "laz_file"
   ]
  },
  {
   "cell_type": "code",
   "execution_count": 29,
   "id": "d8fc2448",
   "metadata": {},
   "outputs": [],
   "source": [
    "import laspy\n"
   ]
  },
  {
   "cell_type": "code",
   "execution_count": 33,
   "id": "71528f8f",
   "metadata": {},
   "outputs": [
    {
     "name": "stdout",
     "output_type": "stream",
     "text": [
      "23118990\n"
     ]
    }
   ],
   "source": [
    "# las = laspy.read(str(laz_file))\n",
    "with laspy.open(laz_file) as f:\n",
    "    print(f.header.point_count)\n",
    "    "
   ]
  },
  {
   "cell_type": "code",
   "execution_count": 36,
   "id": "c97cc269",
   "metadata": {},
   "outputs": [
    {
     "data": {
      "text/plain": [
       "0"
      ]
     },
     "execution_count": 36,
     "metadata": {},
     "output_type": "execute_result"
    }
   ],
   "source": [
    "f.header.file_source_id"
   ]
  },
  {
   "cell_type": "code",
   "execution_count": 37,
   "id": "4a5703fe",
   "metadata": {},
   "outputs": [
    {
     "data": {
      "text/plain": [
       "{'file_source_id': 0,\n",
       " 'global_encoding': <laspy.header.GlobalEncoding at 0x10ddc9060>,\n",
       " 'uuid': UUID('00000000-0000-0000-0000-000000000000'),\n",
       " '_version': Version(major=1, minor=4),\n",
       " 'system_identifier': 'MERGE&FILTER',\n",
       " 'generating_software': 'make_ray_cells',\n",
       " '_point_format': <PointFormat(7, 0 bytes of extra dims)>,\n",
       " 'creation_date': datetime.date(2022, 3, 1),\n",
       " 'point_count': 23118990,\n",
       " 'scales': array([0.001, 0.001, 0.001]),\n",
       " 'offsets': array([1.61431184e+03, 3.39951381e+05, 3.59473562e+01]),\n",
       " 'maxs': array([1.67834284e+03, 3.39967507e+05, 6.44313562e+01]),\n",
       " 'mins': array([1.57758884e+03, 3.39726904e+05, 2.15293562e+01]),\n",
       " 'number_of_points_by_return': array([23118990,        0,        0,        0,        0,        0,\n",
       "               0,        0,        0,        0,        0,        0,\n",
       "               0,        0,        0], dtype=uint32),\n",
       " '_vlrs': [<laspy.vlrs.known.WktCoordinateSystemVlr object at 0x10e159180>, <laspy.vlrs.known.LasZipVlr object at 0x10e147df0>],\n",
       " 'extra_header_bytes': b'',\n",
       " 'extra_vlr_bytes': b'',\n",
       " 'start_of_waveform_data_packet_record': 0,\n",
       " 'start_of_first_evlr': 0,\n",
       " 'number_of_evlrs': 0,\n",
       " 'evlrs': [],\n",
       " 'offset_to_point_data': 1165,\n",
       " 'are_points_compressed': True}"
      ]
     },
     "execution_count": 37,
     "metadata": {},
     "output_type": "execute_result"
    }
   ],
   "source": [
    "f.header.__dict__"
   ]
  },
  {
   "cell_type": "code",
   "execution_count": 1,
   "id": "129dd8c5",
   "metadata": {},
   "outputs": [],
   "source": [
    "import py3dtiles"
   ]
  },
  {
   "cell_type": "code",
   "execution_count": 2,
   "id": "919239e9",
   "metadata": {},
   "outputs": [],
   "source": [
    "from py3dtiles.convert import convert"
   ]
  },
  {
   "cell_type": "code",
   "execution_count": 3,
   "id": "eb3e0f37",
   "metadata": {},
   "outputs": [
    {
     "name": "stdout",
     "output_type": "stream",
     "text": [
      "\u001b[0;31mSignature:\u001b[0m\n",
      "\u001b[0mconvert\u001b[0m\u001b[0;34m(\u001b[0m\u001b[0;34m\u001b[0m\n",
      "\u001b[0;34m\u001b[0m    \u001b[0mfiles\u001b[0m\u001b[0;34m:\u001b[0m \u001b[0mUnion\u001b[0m\u001b[0;34m[\u001b[0m\u001b[0mlist\u001b[0m\u001b[0;34m[\u001b[0m\u001b[0mUnion\u001b[0m\u001b[0;34m[\u001b[0m\u001b[0mstr\u001b[0m\u001b[0;34m,\u001b[0m \u001b[0mpathlib\u001b[0m\u001b[0;34m.\u001b[0m\u001b[0mPath\u001b[0m\u001b[0;34m]\u001b[0m\u001b[0;34m]\u001b[0m\u001b[0;34m,\u001b[0m \u001b[0mstr\u001b[0m\u001b[0;34m,\u001b[0m \u001b[0mpathlib\u001b[0m\u001b[0;34m.\u001b[0m\u001b[0mPath\u001b[0m\u001b[0;34m]\u001b[0m\u001b[0;34m,\u001b[0m\u001b[0;34m\u001b[0m\n",
      "\u001b[0;34m\u001b[0m    \u001b[0moutfolder\u001b[0m\u001b[0;34m:\u001b[0m \u001b[0mUnion\u001b[0m\u001b[0;34m[\u001b[0m\u001b[0mstr\u001b[0m\u001b[0;34m,\u001b[0m \u001b[0mpathlib\u001b[0m\u001b[0;34m.\u001b[0m\u001b[0mPath\u001b[0m\u001b[0;34m]\u001b[0m \u001b[0;34m=\u001b[0m \u001b[0;34m'./3dtiles'\u001b[0m\u001b[0;34m,\u001b[0m\u001b[0;34m\u001b[0m\n",
      "\u001b[0;34m\u001b[0m    \u001b[0moverwrite\u001b[0m\u001b[0;34m:\u001b[0m \u001b[0mbool\u001b[0m \u001b[0;34m=\u001b[0m \u001b[0;32mFalse\u001b[0m\u001b[0;34m,\u001b[0m\u001b[0;34m\u001b[0m\n",
      "\u001b[0;34m\u001b[0m    \u001b[0mjobs\u001b[0m\u001b[0;34m:\u001b[0m \u001b[0mint\u001b[0m \u001b[0;34m=\u001b[0m \u001b[0;36m8\u001b[0m\u001b[0;34m,\u001b[0m\u001b[0;34m\u001b[0m\n",
      "\u001b[0;34m\u001b[0m    \u001b[0mcache_size\u001b[0m\u001b[0;34m:\u001b[0m \u001b[0mint\u001b[0m \u001b[0;34m=\u001b[0m \u001b[0;36m1638\u001b[0m\u001b[0;34m,\u001b[0m\u001b[0;34m\u001b[0m\n",
      "\u001b[0;34m\u001b[0m    \u001b[0mcrs_out\u001b[0m\u001b[0;34m:\u001b[0m \u001b[0mOptional\u001b[0m\u001b[0;34m[\u001b[0m\u001b[0mpyproj\u001b[0m\u001b[0;34m.\u001b[0m\u001b[0mcrs\u001b[0m\u001b[0;34m.\u001b[0m\u001b[0mcrs\u001b[0m\u001b[0;34m.\u001b[0m\u001b[0mCRS\u001b[0m\u001b[0;34m]\u001b[0m \u001b[0;34m=\u001b[0m \u001b[0;32mNone\u001b[0m\u001b[0;34m,\u001b[0m\u001b[0;34m\u001b[0m\n",
      "\u001b[0;34m\u001b[0m    \u001b[0mcrs_in\u001b[0m\u001b[0;34m:\u001b[0m \u001b[0mOptional\u001b[0m\u001b[0;34m[\u001b[0m\u001b[0mpyproj\u001b[0m\u001b[0;34m.\u001b[0m\u001b[0mcrs\u001b[0m\u001b[0;34m.\u001b[0m\u001b[0mcrs\u001b[0m\u001b[0;34m.\u001b[0m\u001b[0mCRS\u001b[0m\u001b[0;34m]\u001b[0m \u001b[0;34m=\u001b[0m \u001b[0;32mNone\u001b[0m\u001b[0;34m,\u001b[0m\u001b[0;34m\u001b[0m\n",
      "\u001b[0;34m\u001b[0m    \u001b[0mforce_crs_in\u001b[0m\u001b[0;34m:\u001b[0m \u001b[0mbool\u001b[0m \u001b[0;34m=\u001b[0m \u001b[0;32mFalse\u001b[0m\u001b[0;34m,\u001b[0m\u001b[0;34m\u001b[0m\n",
      "\u001b[0;34m\u001b[0m    \u001b[0mpyproj_always_xy\u001b[0m\u001b[0;34m:\u001b[0m \u001b[0mbool\u001b[0m \u001b[0;34m=\u001b[0m \u001b[0;32mFalse\u001b[0m\u001b[0;34m,\u001b[0m\u001b[0;34m\u001b[0m\n",
      "\u001b[0;34m\u001b[0m    \u001b[0mbenchmark\u001b[0m\u001b[0;34m:\u001b[0m \u001b[0mOptional\u001b[0m\u001b[0;34m[\u001b[0m\u001b[0mstr\u001b[0m\u001b[0;34m]\u001b[0m \u001b[0;34m=\u001b[0m \u001b[0;32mNone\u001b[0m\u001b[0;34m,\u001b[0m\u001b[0;34m\u001b[0m\n",
      "\u001b[0;34m\u001b[0m    \u001b[0mrgb\u001b[0m\u001b[0;34m:\u001b[0m \u001b[0mbool\u001b[0m \u001b[0;34m=\u001b[0m \u001b[0;32mTrue\u001b[0m\u001b[0;34m,\u001b[0m\u001b[0;34m\u001b[0m\n",
      "\u001b[0;34m\u001b[0m    \u001b[0mclassification\u001b[0m\u001b[0;34m:\u001b[0m \u001b[0mbool\u001b[0m \u001b[0;34m=\u001b[0m \u001b[0;32mTrue\u001b[0m\u001b[0;34m,\u001b[0m\u001b[0;34m\u001b[0m\n",
      "\u001b[0;34m\u001b[0m    \u001b[0mintensity\u001b[0m\u001b[0;34m:\u001b[0m \u001b[0mbool\u001b[0m \u001b[0;34m=\u001b[0m \u001b[0;32mTrue\u001b[0m\u001b[0;34m,\u001b[0m\u001b[0;34m\u001b[0m\n",
      "\u001b[0;34m\u001b[0m    \u001b[0mcolor_scale\u001b[0m\u001b[0;34m:\u001b[0m \u001b[0mOptional\u001b[0m\u001b[0;34m[\u001b[0m\u001b[0mfloat\u001b[0m\u001b[0;34m]\u001b[0m \u001b[0;34m=\u001b[0m \u001b[0;32mNone\u001b[0m\u001b[0;34m,\u001b[0m\u001b[0;34m\u001b[0m\n",
      "\u001b[0;34m\u001b[0m    \u001b[0muse_process_pool\u001b[0m\u001b[0;34m:\u001b[0m \u001b[0mbool\u001b[0m \u001b[0;34m=\u001b[0m \u001b[0;32mTrue\u001b[0m\u001b[0;34m,\u001b[0m\u001b[0;34m\u001b[0m\n",
      "\u001b[0;34m\u001b[0m    \u001b[0mverbose\u001b[0m\u001b[0;34m:\u001b[0m \u001b[0mint\u001b[0m \u001b[0;34m=\u001b[0m \u001b[0;32mFalse\u001b[0m\u001b[0;34m,\u001b[0m\u001b[0;34m\u001b[0m\n",
      "\u001b[0;34m\u001b[0m\u001b[0;34m)\u001b[0m \u001b[0;34m->\u001b[0m \u001b[0;32mNone\u001b[0m\u001b[0;34m\u001b[0m\u001b[0;34m\u001b[0m\u001b[0m\n",
      "\u001b[0;31mDocstring:\u001b[0m\n",
      "Convert the input dataset into 3dtiles. For the argument list and their effects, please see :py:class:`.Converter`.\n",
      "\n",
      ":param files: Filenames to process. The file must use the .las, .laz, .xyz or .ply format.\n",
      ":param outfolder: The folder where the resulting tileset will be written.\n",
      ":param overwrite: Overwrite the ouput folder if it already exists.\n",
      ":param jobs: The number of parallel jobs to start. Default to the number of cpu.\n",
      ":param cache_size: Cache size in MB. Default to available memory / 10.\n",
      ":param crs_out: CRS to convert the output with\n",
      ":param crs_in: Set a default input CRS\n",
      ":param force_crs_in: Force every input CRS to be `crs_in`, even if not null\n",
      ":param pyproj_always_xy: When converting from a CRS to another, pass the `always_xy` flag to pyproj. This is useful if your data is in a CRS whose definition specifies an axis order other than easting/northing, but your data still have the easting component in the first field (often named X or longitude). See https://pyproj4.github.io/pyproj/stable/gotchas.html#axis-order-changes-in-proj-6 for more information.\n",
      ":param benchmark: Print summary at the end of the process\n",
      ":param rgb: Export rgb attributes.\n",
      ":param classification: Export classification attribute.\n",
      ":param intensity: Export intensity attributes. This support is currently limited to unsigned 8 bits integer for ply files, and to integers for xyz files.\n",
      ":param color_scale: Scale the color with the specified amount. Useful to lighten or darken black pointclouds with only intensity.\n",
      "\n",
      ":raises SrsInMissingException: if py3dtiles couldn't find srs informations in input files and srs_in is not specified\n",
      ":raises SrsInMixinException: if the input files have different CRS\n",
      "\u001b[0;31mFile:\u001b[0m      ~/projects/enlite/data/.venv/lib/python3.12/site-packages/py3dtiles/convert.py\n",
      "\u001b[0;31mType:\u001b[0m      function"
     ]
    }
   ],
   "source": [
    "convert?"
   ]
  },
  {
   "cell_type": "code",
   "execution_count": null,
   "id": "a27b755c",
   "metadata": {},
   "outputs": [],
   "source": []
  }
 ],
 "metadata": {
  "kernelspec": {
   "display_name": "Python 3 (ipykernel)",
   "language": "python",
   "name": "python3"
  },
  "language_info": {
   "codemirror_mode": {
    "name": "ipython",
    "version": 3
   },
   "file_extension": ".py",
   "mimetype": "text/x-python",
   "name": "python",
   "nbconvert_exporter": "python",
   "pygments_lexer": "ipython3",
   "version": "3.12.7"
  }
 },
 "nbformat": 4,
 "nbformat_minor": 5
}
